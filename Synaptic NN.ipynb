{
 "cells": [
  {
   "cell_type": "markdown",
   "metadata": {},
   "source": [
    "### Load libraries and external data"
   ]
  },
  {
   "cell_type": "code",
   "execution_count": 28,
   "metadata": {},
   "outputs": [
    {
     "name": "stdout",
     "output_type": "stream",
     "text": [
      "The autoreload extension is already loaded. To reload it, use:\n",
      "  %reload_ext autoreload\n"
     ]
    }
   ],
   "source": [
    "%load_ext autoreload\n",
    "%autoreload 2"
   ]
  },
  {
   "cell_type": "code",
   "execution_count": 29,
   "metadata": {},
   "outputs": [],
   "source": [
    "import colored\n",
    "from colored import stylize\n",
    "from data import dataloader\n",
    "import datetime\n",
    "import json\n",
    "from neuralnet import nn\n",
    "import numpy as np\n",
    "import pandas as pd\n",
    "from sklearn.metrics import confusion_matrix\n",
    "#import pixiedust_node #v≥0.2.5"
   ]
  },
  {
   "cell_type": "markdown",
   "metadata": {},
   "source": [
    "#### Load data from Firebase.\n",
    "Requires [Firebase service account credentials](https://console.firebase.google.com/project/tingle-pilot-collected-data/settings/serviceaccounts/adminsdk) in JSON format saved in `./firebase-credentials`."
   ]
  },
  {
   "cell_type": "code",
   "execution_count": 3,
   "metadata": {},
   "outputs": [],
   "source": [
    "notepath = \"data/notes.csv\"\n",
    "datapath = \"data/pilot_data.csv\"\n",
    "corrections_path = \"data/corrections.json\"\n",
    "\n",
    "if(\n",
    "    os.path.exists(notepath) and\n",
    "    os.path.exists(datapath)\n",
    "):\n",
    "    notes = pd.read_csv(notepath)\n",
    "    pilot_data = pd.read_csv(datapath)\n",
    "else:\n",
    "    pilot_data, notes = dataloader.load_from_firebase(\n",
    "        notes=True,\n",
    "        start=datetime.datetime(2018,3,7),\n",
    "        combine=True,\n",
    "        marked=False\n",
    "    )\n",
    "    pilot_data.to_csv(\n",
    "        datapath,\n",
    "        index=False\n",
    "    )\n",
    "    notes.to_csv(\n",
    "        notepath,\n",
    "        index=False\n",
    "    )\n",
    "\n",
    "if os.path.exists(corrections_path):\n",
    "    with open(\"data/corrections.json\", \"r\") as c:\n",
    "        corrections = json.load(c)\n",
    "else:\n",
    "    corrections = {}"
   ]
  },
  {
   "cell_type": "code",
   "execution_count": 133,
   "metadata": {},
   "outputs": [
    {
     "data": {
      "text/plain": [
       "{12: {'hand': {'R': {'value': 'L'}}},\n",
       " 15: {'step': {30: {'column': 'step_c2'}}}}"
      ]
     },
     "execution_count": 133,
     "metadata": {},
     "output_type": "execute_result"
    }
   ],
   "source": [
    "corrections"
   ]
  },
  {
   "cell_type": "code",
   "execution_count": 4,
   "metadata": {},
   "outputs": [],
   "source": [
    "pilot_data = dataloader.index_participants(pilot_data)\n",
    "pilot_data_corrected = dataloader.correct_corrections(pilot_data, corrections)"
   ]
  },
  {
   "cell_type": "code",
   "execution_count": 5,
   "metadata": {},
   "outputs": [],
   "source": [
    "data_points = {}\n",
    "for i, r in pilot_data_corrected.iterrows():\n",
    "    if r.participant not in data_points:\n",
    "        data_points[\n",
    "            r.participant\n",
    "        ] = {\n",
    "            k: {} for k in list(\n",
    "                range(\n",
    "                    1,\n",
    "                    48\n",
    "                )\n",
    "            )\n",
    "        }\n",
    "    if r.coordinator1 == True and r.coordinator2 == True:\n",
    "        data_points[\n",
    "            r.participant\n",
    "        ][\n",
    "            r.step\n",
    "        ][2] = data_points[\n",
    "            r.participant\n",
    "        ][\n",
    "            r.step\n",
    "        ].get(\n",
    "            2,\n",
    "            0\n",
    "        ) + 1 \n",
    "    elif r.coordinator1 == True or r.coordinator2 == True:\n",
    "        data_points[\n",
    "            r.participant\n",
    "        ][\n",
    "            r.step\n",
    "        ][1] = data_points[\n",
    "            r.participant\n",
    "        ][\n",
    "            r.step\n",
    "        ].get(\n",
    "            1,\n",
    "            0\n",
    "        ) + 1"
   ]
  },
  {
   "cell_type": "code",
   "execution_count": 33,
   "metadata": {},
   "outputs": [
    {
     "name": "stdout",
     "output_type": "stream",
     "text": [
      "1\n",
      "1: 8\t2: 12\t3: 12\t4: 17\t5: 15\t6: 16\t7: 16\t8: 16\t9: 14\t10: 15\t11: 18\t12: 15\t13: 79\t14: 15\t15: 17\t16: 15\t17: 80\t18: 14\t19: 15\t20: 17\t21: 78\t22: 11\t23: 18\t24: 19\t25: 82\t26: 14\t27: 16\t28: 15\t29: 78\t30: 13\t31: 16\t32: 15\t33: 76\t34: 82\t35: 80\t36: 79\t37: 82\t38: 86\t39: 78\t40: 78\t41: 77\t42: 29\t43: 20\t44: 21\t45: 39\t46: 36\t47: 52\t\n",
      "\n",
      "2\n",
      "1: 15\t2: 16\t3: 15\t4: 16\t5: 16\t6: 16\t7: 16\t8: 17\t9: 21\t10: 18\t11: 19\t12: 18\t13: 79\t14: 16\t15: 16\t16: 16\t17: 78\t18: 18\t19: 17\t20: 16\t21: 80\t22: 13\t23: 15\t24: 17\t25: 78\t26: 14\t27: 16\t28: 16\t29: 76\t30: 16\t31: 16\t32: 18\t33: 78\t34: 82\t35: 78\t36: 77\t37: 72\t38: 75\t39: 72\t40: 77\t41: 58\t42: 29\t43: 17\t44: 19\t45: 43\t46: 37\t47: 45\t\n",
      "\n",
      "3\n",
      "1: 18\t2: 23\t3: 27\t4: 20\t5: 16\t6: 17\t7: 23\t8: 17\t9: 14\t10: 31\t11: 16\t12: 18\t13: 79\t14: 18\t15: 20\t16: 18\t17: 81\t18: 12\t19: 15\t20: 18\t21: 79\t22: 15\t23: 15\t24: 13\t25: 81\t26: 16\t27: 16\t28: 14\t29: 79\t30: 16\t31: 18\t32: 16\t33: 79\t34: 77\t35: 60\t36: 81\t37: 80\t38: 79\t39: 79\t40: 75\t41: 54\t42: 27\t43: 17\t44: 17\t45: 50\t46: 41\t47: 67\t\n",
      "\n",
      "4\n",
      "1: 18\t2: 17\t3: 18\t4: 15\t5: 16\t6: 16\t7: 15\t8: 15\t9: 16\t10: 19\t11: 16\t12: 16\t13: 76\t14: 15\t15: 15\t16: 16\t17: 77\t18: 14\t19: 15\t20: 15\t21: 79\t22: 16\t23: 19\t24: 17\t25: 80\t26: 14\t27: 15\t28: 16\t29: 74\t30: 15\t31: 16\t32: 15\t33: 74\t34: 80\t35: 77\t36: 81\t37: 76\t38: 79\t39: 79\t40: 79\t41: 77\t42: 20\t43: 15\t44: 15\t45: 30\t46: 32\t47: 40\t\n",
      "\n",
      "5\n",
      "1: 18\t2: 16\t3: 18\t4: 13\t5: 15\t6: 16\t7: 17\t8: 18\t9: 17\t10: 13\t11: 14\t12: 14\t13: 82\t14: 14\t15: 15\t16: 15\t17: 79\t18: 14\t19: 15\t20: 15\t21: 78\t22: 15\t23: 16\t24: 16\t25: 82\t26: 16\t27: 15\t28: 16\t29: 76\t30: 15\t31: 14\t32: 15\t33: 78\t34: 77\t35: 76\t36: 79\t37: 79\t38: 77\t39: 81\t40: 81\t41: 79\t42: 17\t43: 19\t44: 16\t45: 26\t46: 23\t47: 29\t\n",
      "\n",
      "6\n",
      "1: 16\t2: 20\t3: 22\t4: 17\t5: 17\t6: 16\t7: 15\t8: 14\t9: 15\t10: 16\t11: 14\t12: 16\t13: 79\t14: 14\t15: 14\t16: 14\t17: 79\t18: 16\t19: 15\t20: 15\t21: 78\t22: 18\t23: 17\t24: 16\t25: 77\t26: 13\t27: 15\t28: 14\t29: 79\t30: 15\t31: 15\t32: 14\t33: 78\t34: 79\t35: 79\t36: 77\t37: 78\t38: 78\t39: 85\t40: 79\t41: 79\t42: 31\t43: 20\t44: 27\t45: 46\t46: 44\t47: 67\t\n",
      "\n",
      "7\n",
      "1: 0\t2: 0\t3: 0\t4: 0\t5: 0\t6: 0\t7: 0\t8: 0\t9: 0\t10: 0\t11: 0\t12: 0\t13: 0\t14: 0\t15: 0\t16: 0\t17: 0\t18: 0\t19: 0\t20: 0\t21: 0\t22: 0\t23: 0\t24: 0\t25: 0\t26: 0\t27: 0\t28: 0\t29: 0\t30: 0\t31: 0\t32: 0\t33: 0\t34: 0\t35: 0\t36: 0\t37: 0\t38: 0\t39: 0\t40: 0\t41: 0\t42: 0\t43: 0\t44: 0\t45: 0\t46: 0\t47: 0\t\n",
      "\n",
      "8\n",
      "1: 15\t2: 17\t3: 20\t4: 16\t5: 17\t6: 17\t7: 14\t8: 13\t9: 16\t10: 15\t11: 15\t12: 16\t13: 77\t14: 13\t15: 18\t16: 21\t17: 79\t18: 13\t19: 16\t20: 15\t21: 79\t22: 16\t23: 16\t24: 15\t25: 89\t26: 15\t27: 16\t28: 15\t29: 74\t30: 16\t31: 18\t32: 15\t33: 83\t34: 77\t35: 86\t36: 76\t37: 80\t38: 79\t39: 84\t40: 79\t41: 78\t42: 17\t43: 20\t44: 18\t45: 29\t46: 26\t47: 24\t\n",
      "\n",
      "9\n",
      "1: 16\t2: 26\t3: 30\t4: 21\t5: 16\t6: 15\t7: 16\t8: 17\t9: 15\t10: 16\t11: 16\t12: 20\t13: 80\t14: 15\t15: 15\t16: 15\t17: 77\t18: 10\t19: 15\t20: 17\t21: 78\t22: 14\t23: 15\t24: 14\t25: 79\t26: 11\t27: 15\t28: 15\t29: 80\t30: 14\t31: 15\t32: 17\t33: 80\t34: 80\t35: 79\t36: 75\t37: 79\t38: 71\t39: 76\t40: 79\t41: 78\t42: 20\t43: 19\t44: 20\t45: 45\t46: 31\t47: 27\t\n",
      "\n",
      "10\n",
      "1: 27\t2: 26\t3: 29\t4: 33\t5: 29\t6: 27\t7: 21\t8: 26\t9: 19\t10: 28\t11: 27\t12: 27\t13: 96\t14: 28\t15: 24\t16: 26\t17: 96\t18: 30\t19: 28\t20: 20\t21: 95\t22: 27\t23: 29\t24: 25\t25: 97\t26: 24\t27: 24\t28: 23\t29: 98\t30: 29\t31: 22\t32: 20\t33: 97\t34: 89\t35: 100\t36: 99\t37: 96\t38: 95\t39: 90\t40: 97\t41: 99\t42: 32\t43: 28\t44: 26\t45: 50\t46: 44\t47: 65\t\n",
      "\n",
      "11\n",
      "1: 24\t2: 31\t3: 25\t4: 24\t5: 17\t6: 18\t7: 20\t8: 18\t9: 21\t10: 23\t11: 20\t12: 21\t13: 97\t14: 25\t15: 27\t16: 22\t17: 96\t18: 25\t19: 23\t20: 17\t21: 98\t22: 20\t23: 21\t24: 21\t25: 99\t26: 24\t27: 23\t28: 27\t29: 94\t30: 21\t31: 24\t32: 18\t33: 88\t34: 98\t35: 95\t36: 99\t37: 91\t38: 89\t39: 101\t40: 97\t41: 102\t42: 36\t43: 24\t44: 22\t45: 83\t46: 57\t47: 98\t\n",
      "\n",
      "12\n",
      "1: 22\t2: 21\t3: 23\t4: 34\t5: 24\t6: 24\t7: 25\t8: 21\t9: 20\t10: 23\t11: 25\t12: 22\t13: 97\t14: 22\t15: 22\t16: 21\t17: 97\t18: 21\t19: 32\t20: 19\t21: 95\t22: 27\t23: 20\t24: 17\t25: 100\t26: 19\t27: 25\t28: 20\t29: 99\t30: 21\t31: 20\t32: 17\t33: 103\t34: 95\t35: 97\t36: 91\t37: 94\t38: 96\t39: 95\t40: 92\t41: 190\t42: 41\t43: 22\t44: 22\t45: 57\t46: 38\t47: 68\t\n",
      "\n",
      "13\n",
      "1: 24\t2: 30\t3: 32\t4: 29\t5: 28\t6: 26\t7: 28\t8: 29\t9: 20\t10: 31\t11: 21\t12: 20\t13: 98\t14: 32\t15: 26\t16: 24\t17: 148\t18: 26\t19: 20\t20: 14\t21: 92\t22: 29\t23: 21\t24: 19\t25: 100\t26: 28\t27: 22\t28: 17\t29: 95\t30: 20\t31: 28\t32: 17\t33: 99\t34: 94\t35: 125\t36: 102\t37: 96\t38: 98\t39: 95\t40: 103\t41: 97\t42: 30\t43: 37\t44: 14\t45: 69\t46: 38\t47: 52\t\n",
      "\n",
      "14\n",
      "1: 33\t2: 24\t3: 23\t4: 31\t5: 24\t6: 23\t7: 29\t8: 24\t9: 16\t10: 26\t11: 17\t12: 22\t13: 101\t14: 26\t15: 21\t16: 19\t17: 101\t18: 26\t19: 24\t20: 19\t21: 100\t22: 44\t23: 23\t24: 22\t25: 98\t26: 25\t27: 23\t28: 22\t29: 100\t30: 29\t31: 23\t32: 16\t33: 97\t34: 100\t35: 103\t36: 99\t37: 99\t38: 93\t39: 97\t40: 98\t41: 97\t42: 37\t43: 27\t44: 25\t45: 46\t46: 43\t47: 53\t\n",
      "\n",
      "15\n",
      "1: 20\t2: 34\t3: 29\t4: 26\t5: 23\t6: 23\t7: 23\t8: 22\t9: 27\t10: 18\t11: 23\t12: 26\t13: 98\t14: 32\t15: 22\t16: 25\t17: 94\t18: 22\t19: 23\t20: 27\t21: 89\t22: 23\t23: 22\t24: 27\t25: 100\t26: 22\t27: 25\t28: 22\t29: 102\t30: 23\t31: 24\t32: 33\t33: 89\t34: 100\t35: 101\t36: 101\t37: 95\t38: 99\t39: 93\t40: 96\t41: 98\t42: 41\t43: 33\t44: 29\t45: 47\t46: 47\t47: 45\t\n",
      "\n",
      "16\n",
      "1: 31\t2: 31\t3: 33\t4: 28\t5: 24\t6: 19\t7: 30\t8: 27\t9: 15\t10: 28\t11: 22\t12: 20\t13: 92\t14: 27\t15: 17\t16: 22\t17: 100\t18: 26\t19: 24\t20: 18\t21: 101\t22: 28\t23: 26\t24: 16\t25: 98\t26: 30\t27: 23\t28: 22\t29: 104\t30: 31\t31: 26\t32: 20\t33: 103\t34: 95\t35: 114\t36: 102\t37: 96\t38: 98\t39: 104\t40: 103\t41: 97\t42: 29\t43: 49\t44: 24\t45: 44\t46: 41\t47: 41\t\n",
      "\n",
      "17\n",
      "1: 20\t2: 24\t3: 26\t4: 25\t5: 25\t6: 26\t7: 27\t8: 27\t9: 20\t10: 26\t11: 27\t12: 18\t13: 89\t14: 27\t15: 25\t16: 19\t17: 91\t18: 28\t19: 25\t20: 24\t21: 86\t22: 24\t23: 26\t24: 22\t25: 82\t26: 29\t27: 27\t28: 20\t29: 86\t30: 29\t31: 27\t32: 22\t33: 84\t34: 87\t35: 92\t36: 89\t37: 92\t38: 93\t39: 89\t40: 87\t41: 87\t42: 33\t43: 27\t44: 26\t45: 43\t46: 38\t47: 47\t\n",
      "\n",
      "18\n",
      "1: 26\t2: 27\t3: 26\t4: 26\t5: 28\t6: 23\t7: 27\t8: 27\t9: 23\t10: 24\t11: 31\t12: 17\t13: 82\t14: 24\t15: 25\t16: 26\t17: 84\t18: 27\t19: 22\t20: 22\t21: 89\t22: 27\t23: 29\t24: 20\t25: 88\t26: 23\t27: 23\t28: 21\t29: 87\t30: 30\t31: 25\t32: 20\t33: 89\t34: 88\t35: 90\t36: 85\t37: 84\t38: 87\t39: 84\t40: 85\t41: 80\t42: 40\t43: 33\t44: 29\t45: 62\t46: 56\t47: 50\t\n",
      "\n",
      "19\n",
      "1: 23\t2: 24\t3: 25\t4: 26\t5: 24\t6: 23\t7: 26\t8: 27\t9: 20\t10: 30\t11: 26\t12: 28\t13: 88\t14: 29\t15: 21\t16: 24\t17: 85\t18: 28\t19: 26\t20: 22\t21: 88\t22: 29\t23: 28\t24: 20\t25: 89\t26: 31\t27: 20\t28: 23\t29: 81\t30: 27\t31: 24\t32: 23\t33: 86\t34: 87\t35: 88\t36: 94\t37: 83\t38: 83\t39: 85\t40: 85\t41: 85\t42: 35\t43: 32\t44: 28\t45: 56\t46: 61\t47: 48\t\n",
      "\n",
      "20\n",
      "1: 23\t2: 26\t3: 25\t4: 25\t5: 23\t6: 20\t7: 30\t8: 27\t9: 20\t10: 29\t11: 25\t12: 21\t13: 90\t14: 30\t15: 22\t16: 18\t17: 86\t18: 28\t19: 21\t20: 25\t21: 85\t22: 26\t23: 19\t24: 20\t25: 92\t26: 29\t27: 27\t28: 19\t29: 87\t30: 28\t31: 25\t32: 18\t33: 80\t34: 88\t35: 84\t36: 89\t37: 83\t38: 83\t39: 84\t40: 86\t41: 83\t42: 31\t43: 28\t44: 28\t45: 38\t46: 39\t47: 51\t\n",
      "\n",
      "21\n",
      "1: 23\t2: 25\t3: 25\t4: 23\t5: 26\t6: 23\t7: 24\t8: 24\t9: 19\t10: 24\t11: 26\t12: 26\t13: 86\t14: 28\t15: 18\t16: 24\t17: 88\t18: 25\t19: 26\t20: 21\t21: 81\t22: 27\t23: 25\t24: 21\t25: 84\t26: 21\t27: 25\t28: 18\t29: 79\t30: 24\t31: 25\t32: 17\t33: 83\t34: 85\t35: 82\t36: 89\t37: 85\t38: 85\t39: 92\t40: 87\t41: 79\t42: 30\t43: 28\t44: 27\t45: 50\t46: 54\t47: 60\t\n",
      "\n",
      "22\n",
      "1: 24\t2: 28\t3: 24\t4: 27\t5: 27\t6: 21\t7: 30\t8: 26\t9: 24\t10: 26\t11: 25\t12: 17\t13: 83\t14: 26\t15: 25\t16: 19\t17: 90\t18: 28\t19: 23\t20: 21\t21: 88\t22: 28\t23: 25\t24: 20\t25: 84\t26: 28\t27: 29\t28: 25\t29: 77\t30: 29\t31: 28\t32: 20\t33: 86\t34: 88\t35: 85\t36: 83\t37: 89\t38: 71\t39: 88\t40: 86\t41: 81\t42: 32\t43: 29\t44: 25\t45: 87\t46: 95\t47: 41\t\n",
      "\n",
      "23\n",
      "1: 24\t2: 27\t3: 25\t4: 33\t5: 28\t6: 25\t7: 29\t8: 28\t9: 26\t10: 26\t11: 27\t12: 27\t13: 86\t14: 27\t15: 28\t16: 21\t17: 90\t18: 26\t19: 31\t20: 17\t21: 91\t22: 36\t23: 25\t24: 24\t25: 87\t26: 29\t27: 27\t28: 23\t29: 92\t30: 28\t31: 22\t32: 25\t33: 90\t34: 110\t35: 87\t36: 87\t37: 86\t38: 82\t39: 88\t40: 88\t41: 88\t42: 54\t43: 24\t44: 22\t45: 55\t46: 46\t47: 48\t\n",
      "\n",
      "24\n",
      "1: 24\t2: 50\t3: 27\t4: 27\t5: 26\t6: 23\t7: 24\t8: 25\t9: 22\t10: 24\t11: 25\t12: 20\t13: 90\t14: 32\t15: 23\t16: 17\t17: 90\t18: 28\t19: 24\t20: 20\t21: 90\t22: 25\t23: 25\t24: 19\t25: 88\t26: 26\t27: 24\t28: 20\t29: 87\t30: 25\t31: 26\t32: 18\t33: 88\t34: 86\t35: 89\t36: 89\t37: 87\t38: 89\t39: 90\t40: 96\t41: 88\t42: 34\t43: 29\t44: 27\t45: 51\t46: 48\t47: 51\t\n",
      "\n",
      "25\n",
      "1: 21\t2: 25\t3: 23\t4: 27\t5: 29\t6: 24\t7: 25\t8: 20\t9: 28\t10: 26\t11: 22\t12: 26\t13: 117\t14: 26\t15: 28\t16: 21\t17: 89\t18: 20\t19: 29\t20: 28\t21: 89\t22: 37\t23: 30\t24: 22\t25: 89\t26: 28\t27: 25\t28: 20\t29: 86\t30: 25\t31: 25\t32: 19\t33: 86\t34: 85\t35: 90\t36: 86\t37: 86\t38: 86\t39: 86\t40: 79\t41: 78\t42: 35\t43: 30\t44: 29\t45: 36\t46: 32\t47: 50\t\n",
      "\n",
      "26\n",
      "1: 24\t2: 26\t3: 25\t4: 28\t5: 21\t6: 26\t7: 28\t8: 18\t9: 21\t10: 26\t11: 29\t12: 19\t13: 89\t14: 31\t15: 22\t16: 16\t17: 89\t18: 30\t19: 20\t20: 17\t21: 88\t22: 27\t23: 21\t24: 17\t25: 88\t26: 29\t27: 22\t28: 22\t29: 86\t30: 28\t31: 23\t32: 20\t33: 85\t34: 86\t35: 87\t36: 88\t37: 87\t38: 92\t39: 85\t40: 92\t41: 88\t42: 53\t43: 35\t44: 23\t45: 49\t46: 49\t47: 33\t\n",
      "\n",
      "27\n",
      "1: 22\t2: 23\t3: 23\t4: 22\t5: 22\t6: 23\t7: 25\t8: 23\t9: 23\t10: 24\t11: 20\t12: 23\t13: 88\t14: 22\t15: 24\t16: 20\t17: 87\t18: 17\t19: 23\t20: 25\t21: 88\t22: 22\t23: 25\t24: 23\t25: 86\t26: 17\t27: 23\t28: 25\t29: 87\t30: 20\t31: 24\t32: 23\t33: 91\t34: 87\t35: 91\t36: 86\t37: 86\t38: 95\t39: 84\t40: 88\t41: 97\t42: 40\t43: 23\t44: 21\t45: 57\t46: 54\t47: 58\t\n",
      "\n",
      "28\n",
      "1: 20\t2: 21\t3: 21\t4: 19\t5: 21\t6: 23\t7: 20\t8: 17\t9: 20\t10: 35\t11: 18\t12: 22\t13: 117\t14: 23\t15: 22\t16: 17\t17: 87\t18: 21\t19: 20\t20: 19\t21: 91\t22: 25\t23: 27\t24: 25\t25: 87\t26: 24\t27: 20\t28: 22\t29: 85\t30: 19\t31: 22\t32: 21\t33: 83\t34: 88\t35: 89\t36: 89\t37: 87\t38: 82\t39: 90\t40: 86\t41: 88\t42: 39\t43: 20\t44: 23\t45: 45\t46: 29\t47: 34\t\n",
      "\n",
      "29\n",
      "1: 22\t2: 24\t3: 23\t4: 28\t5: 21\t6: 24\t7: 26\t8: 22\t9: 20\t10: 22\t11: 24\t12: 22\t13: 84\t14: 21\t15: 23\t16: 23\t17: 84\t18: 23\t19: 22\t20: 19\t21: 85\t22: 23\t23: 19\t24: 19\t25: 88\t26: 23\t27: 24\t28: 22\t29: 87\t30: 24\t31: 18\t32: 20\t33: 85\t34: 87\t35: 88\t36: 89\t37: 80\t38: 82\t39: 88\t40: 92\t41: 90\t42: 31\t43: 26\t44: 27\t45: 54\t46: 54\t47: 59\t\n",
      "\n",
      "30\n",
      "1: 22\t2: 24\t3: 22\t4: 23\t5: 22\t6: 25\t7: 28\t8: 21\t9: 23\t10: 24\t11: 19\t12: 19\t13: 87\t14: 34\t15: 22\t16: 29\t17: 92\t18: 27\t19: 21\t20: 20\t21: 83\t22: 20\t23: 23\t24: 21\t25: 92\t26: 29\t27: 19\t28: 22\t29: 90\t30: 21\t31: 24\t32: 18\t33: 84\t34: 85\t35: 88\t36: 92\t37: 88\t38: 77\t39: 88\t40: 86\t41: 89\t42: 28\t43: 30\t44: 20\t45: 49\t46: 36\t47: 67\t\n",
      "\n",
      "31\n",
      "1: 21\t2: 23\t3: 22\t4: 28\t5: 21\t6: 22\t7: 22\t8: 21\t9: 22\t10: 21\t11: 20\t12: 20\t13: 87\t14: 20\t15: 24\t16: 18\t17: 90\t18: 26\t19: 20\t20: 25\t21: 82\t22: 22\t23: 20\t24: 21\t25: 88\t26: 30\t27: 23\t28: 24\t29: 83\t30: 25\t31: 17\t32: 21\t33: 85\t34: 92\t35: 90\t36: 95\t37: 79\t38: 89\t39: 86\t40: 94\t41: 88\t42: 30\t43: 27\t44: 15\t45: 40\t46: 40\t47: 36\t\n",
      "\n",
      "32\n",
      "1: 22\t2: 20\t3: 20\t4: 28\t5: 18\t6: 19\t7: 21\t8: 18\t9: 16\t10: 27\t11: 21\t12: 17\t13: 96\t14: 32\t15: 20\t16: 16\t17: 91\t18: 21\t19: 24\t20: 20\t21: 88\t22: 30\t23: 21\t24: 17\t25: 96\t26: 32\t27: 23\t28: 20\t29: 89\t30: 30\t31: 21\t32: 19\t33: 82\t34: 91\t35: 93\t36: 85\t37: 97\t38: 92\t39: 92\t40: 90\t41: 83\t42: 33\t43: 23\t44: 21\t45: 31\t46: 36\t47: 60\t\n",
      "\n",
      "33\n",
      "1: 0\t2: 0\t3: 0\t4: 0\t5: 0\t6: 0\t7: 0\t8: 0\t9: 0\t10: 0\t11: 0\t12: 0\t13: 0\t14: 0\t15: 0\t16: 0\t17: 0\t18: 0\t19: 0\t20: 0\t21: 0\t22: 0\t23: 0\t24: 0\t25: 0\t26: 0\t27: 0\t28: 0\t29: 0\t30: 0\t31: 0\t32: 0\t33: 0\t34: 0\t35: 0\t36: 0\t37: 0\t38: 0\t39: 0\t40: 0\t41: 0\t42: 0\t43: 0\t44: 0\t45: 0\t46: 0\t47: 0\t\n",
      "\n",
      "34\n",
      "1: 26\t2: 23\t3: 25\t4: 23\t5: 28\t6: 21\t7: 25\t8: 29\t9: 16\t10: 24\t11: 25\t12: 23\t13: 86\t14: 27\t15: 20\t16: 22\t17: 86\t18: 27\t19: 53\t20: 34\t21: 171\t22: 28\t23: 27\t24: 20\t25: 83\t26: 23\t27: 20\t28: 18\t29: 83\t30: 24\t31: 21\t32: 18\t33: 82\t34: 90\t35: 88\t36: 91\t37: 88\t38: 82\t39: 89\t40: 87\t41: 90\t42: 31\t43: 24\t44: 26\t45: 59\t46: 49\t47: 47\t\n",
      "\n",
      "35\n",
      "1: 25\t2: 26\t3: 26\t4: 27\t5: 25\t6: 14\t7: 28\t8: 22\t9: 15\t10: 29\t11: 23\t12: 19\t13: 88\t14: 29\t15: 23\t16: 16\t17: 87\t18: 26\t19: 22\t20: 16\t21: 85\t22: 27\t23: 21\t24: 19\t25: 88\t26: 29\t27: 21\t28: 16\t29: 87\t30: 26\t31: 25\t32: 23\t33: 75\t34: 86\t35: 88\t36: 83\t37: 88\t38: 85\t39: 86\t40: 87\t41: 85\t42: 39\t43: 25\t44: 27\t45: 47\t46: 48\t47: 49\t\n",
      "\n",
      "36\n",
      "1: 22\t2: 27\t3: 23\t4: 27\t5: 23\t6: 18\t7: 27\t8: 21\t9: 20\t10: 36\t11: 24\t12: 15\t13: 90\t14: 24\t15: 25\t16: 17\t17: 88\t18: 17\t19: 26\t20: 19\t21: 86\t22: 28\t23: 22\t24: 17\t25: 86\t26: 21\t27: 22\t28: 15\t29: 81\t30: 23\t31: 21\t32: 17\t33: 83\t34: 87\t35: 88\t36: 88\t37: 86\t38: 86\t39: 92\t40: 88\t41: 85\t42: 30\t43: 27\t44: 29\t45: 42\t46: 40\t47: 79\t\n",
      "\n",
      "37\n",
      "1: 24\t2: 28\t3: 24\t4: 23\t5: 25\t6: 26\t7: 26\t8: 26\t9: 22\t10: 26\t11: 23\t12: 24\t13: 86\t14: 24\t15: 23\t16: 19\t17: 84\t18: 29\t19: 20\t20: 15\t21: 90\t22: 20\t23: 20\t24: 17\t25: 86\t26: 25\t27: 22\t28: 16\t29: 87\t30: 28\t31: 23\t32: 21\t33: 86\t34: 83\t35: 86\t36: 87\t37: 86\t38: 85\t39: 86\t40: 85\t41: 87\t42: 31\t43: 26\t44: 24\t45: 49\t46: 57\t47: 48\t\n",
      "\n",
      "38\n",
      "1: 26\t2: 24\t3: 25\t4: 29\t5: 27\t6: 19\t7: 30\t8: 23\t9: 19\t10: 32\t11: 26\t12: 21\t13: 117\t14: 28\t15: 24\t16: 17\t17: 82\t18: 28\t19: 22\t20: 17\t21: 87\t22: 26\t23: 21\t24: 17\t25: 87\t26: 26\t27: 24\t28: 18\t29: 87\t30: 27\t31: 24\t32: 19\t33: 86\t34: 86\t35: 87\t36: 87\t37: 88\t38: 94\t39: 88\t40: 74\t41: 86\t42: 39\t43: 30\t44: 21\t45: 49\t46: 45\t47: 48\t\n",
      "\n",
      "39\n",
      "1: 25\t2: 26\t3: 26\t4: 26\t5: 24\t6: 19\t7: 28\t8: 24\t9: 18\t10: 30\t11: 26\t12: 21\t13: 89\t14: 24\t15: 33\t16: 20\t17: 86\t18: 26\t19: 24\t20: 16\t21: 85\t22: 29\t23: 19\t24: 23\t25: 90\t26: 28\t27: 26\t28: 20\t29: 89\t30: 22\t31: 29\t32: 19\t33: 88\t34: 90\t35: 94\t36: 88\t37: 89\t38: 92\t39: 87\t40: 89\t41: 89\t42: 42\t43: 25\t44: 25\t45: 51\t46: 42\t47: 55\t\n",
      "\n",
      "40\n",
      "1: 19\t2: 19\t3: 24\t4: 24\t5: 23\t6: 28\t7: 26\t8: 30\t9: 26\t10: 23\t11: 30\t12: 22\t13: 86\t14: 24\t15: 30\t16: 21\t17: 91\t18: 23\t19: 27\t20: 27\t21: 86\t22: 24\t23: 27\t24: 26\t25: 83\t26: 19\t27: 25\t28: 23\t29: 88\t30: 31\t31: 27\t32: 19\t33: 86\t34: 91\t35: 91\t36: 87\t37: 84\t38: 85\t39: 90\t40: 86\t41: 82\t42: 33\t43: 28\t44: 21\t45: 36\t46: 35\t47: 47\t\n",
      "\n",
      "41\n",
      "1: 21\t2: 25\t3: 26\t4: 22\t5: 23\t6: 21\t7: 25\t8: 25\t9: 22\t10: 20\t11: 25\t12: 22\t13: 84\t14: 24\t15: 25\t16: 23\t17: 90\t18: 26\t19: 25\t20: 25\t21: 94\t22: 26\t23: 25\t24: 19\t25: 87\t26: 29\t27: 24\t28: 22\t29: 92\t30: 21\t31: 24\t32: 25\t33: 90\t34: 91\t35: 89\t36: 85\t37: 92\t38: 83\t39: 86\t40: 82\t41: 89\t42: 28\t43: 21\t44: 27\t45: 60\t46: 62\t47: 39\t\n",
      "\n",
      "42\n",
      "1: 24\t2: 26\t3: 28\t4: 24\t5: 24\t6: 20\t7: 28\t8: 21\t9: 21\t10: 28\t11: 25\t12: 18\t13: 88\t14: 27\t15: 29\t16: 22\t17: 94\t18: 27\t19: 22\t20: 25\t21: 88\t22: 26\t23: 29\t24: 21\t25: 88\t26: 29\t27: 26\t28: 21\t29: 86\t30: 24\t31: 29\t32: 23\t33: 87\t34: 89\t35: 88\t36: 89\t37: 80\t38: 82\t39: 92\t40: 85\t41: 93\t42: 60\t43: 30\t44: 42\t45: 48\t46: 26\t47: 46\t\n",
      "\n",
      "43\n",
      "1: 24\t2: 29\t3: 25\t4: 22\t5: 24\t6: 23\t7: 23\t8: 27\t9: 23\t10: 23\t11: 23\t12: 24\t13: 80\t14: 24\t15: 22\t16: 22\t17: 87\t18: 24\t19: 22\t20: 18\t21: 78\t22: 28\t23: 21\t24: 24\t25: 88\t26: 21\t27: 24\t28: 21\t29: 86\t30: 26\t31: 27\t32: 21\t33: 82\t34: 85\t35: 88\t36: 86\t37: 89\t38: 88\t39: 84\t40: 87\t41: 94\t42: 53\t43: 25\t44: 25\t45: 32\t46: 34\t47: 72\t\n",
      "\n",
      "44\n",
      "1: 24\t2: 23\t3: 24\t4: 28\t5: 23\t6: 19\t7: 27\t8: 20\t9: 20\t10: 27\t11: 23\t12: 20\t13: 112\t14: 24\t15: 25\t16: 28\t17: 100\t18: 30\t19: 25\t20: 23\t21: 85\t22: 28\t23: 22\t24: 19\t25: 88\t26: 27\t27: 19\t28: 19\t29: 71\t30: 32\t31: 19\t32: 19\t33: 88\t34: 90\t35: 87\t36: 87\t37: 84\t38: 97\t39: 86\t40: 87\t41: 96\t42: 33\t43: 32\t44: 21\t45: 42\t46: 35\t47: 37\t\n",
      "\n",
      "45\n",
      "1: 18\t2: 24\t3: 22\t4: 24\t5: 24\t6: 20\t7: 26\t8: 27\t9: 19\t10: 24\t11: 22\t12: 22\t13: 89\t14: 27\t15: 23\t16: 18\t17: 92\t18: 26\t19: 25\t20: 18\t21: 86\t22: 34\t23: 21\t24: 20\t25: 87\t26: 33\t27: 17\t28: 20\t29: 79\t30: 25\t31: 23\t32: 21\t33: 82\t34: 85\t35: 90\t36: 90\t37: 88\t38: 89\t39: 90\t40: 92\t41: 87\t42: 33\t43: 45\t44: 30\t45: 39\t46: 30\t47: 44\t\n",
      "\n",
      "46\n",
      "1: 38\t2: 25\t3: 28\t4: 23\t5: 26\t6: 23\t7: 25\t8: 26\t9: 21\t10: 26\t11: 26\t12: 22\t13: 84\t14: 23\t15: 24\t16: 23\t17: 89\t18: 25\t19: 25\t20: 22\t21: 88\t22: 31\t23: 23\t24: 22\t25: 79\t26: 28\t27: 21\t28: 23\t29: 94\t30: 25\t31: 15\t32: 19\t33: 87\t34: 86\t35: 89\t36: 96\t37: 85\t38: 89\t39: 80\t40: 97\t41: 86\t42: 39\t43: 24\t44: 24\t45: 43\t46: 43\t47: 53\t\n",
      "\n",
      "47\n",
      "1: 24\t2: 23\t3: 27\t4: 25\t5: 26\t6: 20\t7: 31\t8: 25\t9: 24\t10: 39\t11: 26\t12: 19\t13: 89\t14: 25\t15: 25\t16: 21\t17: 83\t18: 27\t19: 21\t20: 19\t21: 84\t22: 30\t23: 23\t24: 24\t25: 93\t26: 24\t27: 16\t28: 19\t29: 85\t30: 28\t31: 23\t32: 18\t33: 84\t34: 89\t35: 88\t36: 86\t37: 84\t38: 83\t39: 74\t40: 88\t41: 85\t42: 31\t43: 29\t44: 20\t45: 92\t46: 57\t47: 45\t\n",
      "\n",
      "48\n",
      "1: 27\t2: 22\t3: 26\t4: 25\t5: 26\t6: 20\t7: 23\t8: 27\t9: 16\t10: 25\t11: 26\t12: 18\t13: 80\t14: 26\t15: 20\t16: 22\t17: 83\t18: 27\t19: 26\t20: 21\t21: 79\t22: 26\t23: 24\t24: 19\t25: 94\t26: 24\t27: 23\t28: 17\t29: 89\t30: 28\t31: 22\t32: 22\t33: 86\t34: 95\t35: 90\t36: 88\t37: 84\t38: 84\t39: 94\t40: 89\t41: 86\t42: 33\t43: 34\t44: 25\t45: 45\t46: 39\t47: 55\t\n",
      "\n",
      "49\n",
      "1: 23\t2: 25\t3: 27\t4: 30\t5: 26\t6: 25\t7: 33\t8: 25\t9: 25\t10: 22\t11: 25\t12: 26\t13: 89\t14: 22\t15: 33\t16: 25\t17: 90\t18: 24\t19: 27\t20: 25\t21: 84\t22: 27\t23: 25\t24: 24\t25: 86\t26: 26\t27: 19\t28: 26\t29: 88\t30: 21\t31: 23\t32: 23\t33: 88\t34: 87\t35: 87\t36: 85\t37: 90\t38: 84\t39: 87\t40: 87\t41: 89\t42: 36\t43: 52\t44: 30\t45: 41\t46: 33\t47: 58\t\n",
      "\n",
      "50\n",
      "1: 25\t2: 20\t3: 28\t4: 35\t5: 26\t6: 29\t7: 25\t8: 25\t9: 23\t10: 25\t11: 27\t12: 22\t13: 82\t14: 27\t15: 35\t16: 25\t17: 100\t18: 25\t19: 26\t20: 23\t21: 88\t22: 24\t23: 24\t24: 16\t25: 91\t26: 23\t27: 26\t28: 21\t29: 88\t30: 24\t31: 23\t32: 25\t33: 87\t34: 84\t35: 84\t36: 87\t37: 84\t38: 80\t39: 88\t40: 83\t41: 94\t42: 27\t43: 30\t44: 24\t45: 46\t46: 34\t47: 55\t\n",
      "\n",
      "51\n",
      "1: 22\t2: 27\t3: 22\t4: 22\t5: 29\t6: 21\t7: 24\t8: 22\t9: 19\t10: 21\t11: 26\t12: 21\t13: 82\t14: 25\t15: 21\t16: 19\t17: 92\t18: 26\t19: 23\t20: 20\t21: 85\t22: 32\t23: 22\t24: 21\t25: 87\t26: 25\t27: 27\t28: 18\t29: 89\t30: 29\t31: 28\t32: 21\t33: 91\t34: 92\t35: 91\t36: 84\t37: 89\t38: 88\t39: 88\t40: 72\t41: 89\t42: 48\t43: 30\t44: 27\t45: 40\t46: 47\t47: 112\t\n",
      "\n",
      "52\n",
      "1: 27\t2: 35\t3: 29\t4: 26\t5: 29\t6: 26\t7: 28\t8: 28\t9: 25\t10: 23\t11: 24\t12: 25\t13: 90\t14: 24\t15: 26\t16: 24\t17: 84\t18: 24\t19: 24\t20: 21\t21: 83\t22: 25\t23: 25\t24: 21\t25: 85\t26: 29\t27: 23\t28: 22\t29: 83\t30: 21\t31: 24\t32: 21\t33: 89\t34: 87\t35: 91\t36: 88\t37: 85\t38: 90\t39: 88\t40: 90\t41: 89\t42: 35\t43: 24\t44: 18\t45: 66\t46: 56\t47: 97\t\n",
      "\n"
     ]
    }
   ],
   "source": [
    "for s in data_points:\n",
    "    print(str(s))\n",
    "    for t in data_points[s]:\n",
    "        ttl = sum(\n",
    "            data_points[\n",
    "                s\n",
    "            ][\n",
    "                t\n",
    "            ].values(\n",
    "            )\n",
    "        ) if t in data_points[\n",
    "            s\n",
    "        ] else str(\n",
    "            0\n",
    "        )\n",
    "        t2 = str(t)\n",
    "        ttl2 = str(ttl)\n",
    "        print(\"{0}: {1}\".format(\n",
    "            t2,\n",
    "            ttl2\n",
    "        ), end=\"\\t\")\n",
    "    print(\"\\n\")"
   ]
  },
  {
   "cell_type": "markdown",
   "metadata": {},
   "source": [
    "#### Load [Synaptic](http://caza.la/synaptic/)\n",
    "If \"Error: Cannot find module 'synaptic'\", create and run these two cells:\n",
    "\n",
    "1. ```\n",
    "cd neuralnet\n",
    "```\n",
    "\n",
    "2. ```sh\n",
    "!npm init -y\n",
    "!npm install -s synaptic\n",
    "```"
   ]
  },
  {
   "cell_type": "code",
   "execution_count": null,
   "metadata": {},
   "outputs": [],
   "source": [
    "%%node\n",
    "var lstm = require('../../tingle-pilot-study/neuralnet/lstm.js');"
   ]
  },
  {
   "cell_type": "markdown",
   "metadata": {},
   "source": [
    "---\n",
    "### See all targets, number of available samples and iteration blocks"
   ]
  },
  {
   "cell_type": "code",
   "execution_count": null,
   "metadata": {},
   "outputs": [],
   "source": [
    "with open(\"neuralnet/targets.json\", 'r') as fp:\n",
    "    targets = json.load(fp)"
   ]
  },
  {
   "cell_type": "markdown",
   "metadata": {},
   "source": [
    "{target: training, [all offtarget], [all onbody offtarget], [all nontraining rotation], [all offbody]}"
   ]
  },
  {
   "cell_type": "code",
   "execution_count": null,
   "metadata": {},
   "outputs": [],
   "source": [
    "for target in list(pilot_data.target.unique()):\n",
    "    ib =max(\n",
    "        pilot_data.loc[\n",
    "            pilot_data.target==target\n",
    "        ][\"step\"].dropna()\n",
    "    )\n",
    "    print(\": \".join([\n",
    "        target,\n",
    "        \"{0} on-target samples in step {1}\".format(\n",
    "            str(len(pilot_data.loc[\n",
    "                (pilot_data.target == target) &\n",
    "                (pilot_data.ontarget)\n",
    "            ])),\n",
    "            \"%.0f\" % ib\n",
    "        )\n",
    "    ]))"
   ]
  },
  {
   "cell_type": "markdown",
   "metadata": {},
   "source": [
    "---\n",
    "### Extract training and testing data\n",
    "Define targets of interest and corresponding offtargets"
   ]
  },
  {
   "cell_type": "markdown",
   "metadata": {
    "code_folding": [
     0,
     3
    ]
   },
   "source": [
    "with open(\n",
    "    'data/targets.json',\n",
    "    'r'\n",
    ") as fp:\n",
    "    targets = json.load(\n",
    "        fp\n",
    "    )[0]"
   ]
  },
  {
   "cell_type": "markdown",
   "metadata": {},
   "source": [
    "Set parameters for nn:"
   ]
  },
  {
   "cell_type": "code",
   "execution_count": null,
   "metadata": {},
   "outputs": [],
   "source": [
    "input_signals = [\n",
    "    \"distance\",\n",
    "    \"thermopile1\",\n",
    "    \"thermopile2\",\n",
    "    \"thermopile3\",\n",
    "    \"thermopile4\"\n",
    "]\n",
    "n_samples = [300, 250, 200, 150, 100, 50]\n",
    "steps = list(range(1, 48))"
   ]
  },
  {
   "cell_type": "markdown",
   "metadata": {},
   "source": [
    "Get training inputs and outputs, inputs that should evaluate ~true and inputs that should evaluate ~false"
   ]
  },
  {
   "cell_type": "code",
   "execution_count": null,
   "metadata": {
    "code_folding": [
     3,
     19,
     32
    ]
   },
   "outputs": [],
   "source": [
    "targ = \"eyebrow\"\n",
    "data = nn.define_trainer_data(\n",
    "    pilot_data,\n",
    "    {\n",
    "        \"target\": [targets[targ]],\n",
    "        \"offtarget\": targets[targ][1]\n",
    "    },\n",
    "    input_signals,\n",
    "    steps,\n",
    "    n_samples=n_samples[0]\n",
    ")"
   ]
  },
  {
   "cell_type": "markdown",
   "metadata": {},
   "source": [
    "Preview all inputs and training outputs"
   ]
  },
  {
   "cell_type": "code",
   "execution_count": null,
   "metadata": {
    "collapsed": true
   },
   "outputs": [],
   "source": [
    "data"
   ]
  },
  {
   "cell_type": "markdown",
   "metadata": {},
   "source": [
    "**Note**: These data take some time to copy across environments. Give the notebook some time between running cells across Python and JavaScript.\n",
    "\n",
    "---\n",
    "### Train and test"
   ]
  },
  {
   "cell_type": "code",
   "execution_count": null,
   "metadata": {},
   "outputs": [],
   "source": [
    "%%node\n",
    "var networks = {};\n",
    "for n_sample in n_samples:\n",
    "    for (var target in data) {\n",
    "      networks[target] = lstm.train_lstm([5,5,2,1], data[target][\"train\"], 0.06, 0.06, 3000);\n",
    "    }"
   ]
  },
  {
   "cell_type": "code",
   "execution_count": null,
   "metadata": {},
   "outputs": [],
   "source": [
    "%%node\n",
    "var test_outputs = {};\n",
    "for (var target in data) {\n",
    "    test_outputs[target] = {\"true\":[],\"false\":[]};\n",
    "    for(var iteration=0; iteration < data[target][\"test_true\"].length; iteration++){\n",
    "      test_outputs[target][\"true\"].push(networks[target].activate(data[target][\"test_true\"][iteration]));\n",
    "      }\n",
    "    for(var iteration=0; iteration < data[target][\"test_false\"].length; iteration++){\n",
    "      test_outputs[target][\"false\"].push(networks[target].activate(data[target][\"test_false\"][iteration]));\n",
    "    }\n",
    "}"
   ]
  },
  {
   "cell_type": "code",
   "execution_count": null,
   "metadata": {},
   "outputs": [],
   "source": [
    "test_outputs"
   ]
  },
  {
   "cell_type": "markdown",
   "metadata": {},
   "source": [
    "---\n",
    "### See outputs"
   ]
  },
  {
   "cell_type": "code",
   "execution_count": null,
   "metadata": {},
   "outputs": [],
   "source": [
    "def calc_confusion(negative, positive):\n",
    "    \"\"\"\n",
    "    Function to calculate a confusion matrix\n",
    "    \n",
    "    Parameters\n",
    "    ----------\n",
    "    negative: list of floats\n",
    "        outputs of neural nets with true negative inputs\n",
    "        \n",
    "    positive: list of floats\n",
    "        outputs of neural nets with true positive inputs\n",
    "        \n",
    "    Returns\n",
    "    -------\n",
    "    confusion: matrix of floats\n",
    "        tn, fp, fn, tp\n",
    "        see http://scikit-learn.org/stable/modules/generated/sklearn.metrics.confusion_matrix.html\n",
    "    \"\"\"\n",
    "    ytrue = [\n",
    "        *[\n",
    "            0 for output in negative\n",
    "        ],\n",
    "        *[\n",
    "            1 for output in positive\n",
    "        ]\n",
    "    ]\n",
    "    ypredicted = [\n",
    "        *[\n",
    "            int(round(o)) for o in negative\n",
    "        ],\n",
    "        *[\n",
    "            int(round(o)) for o in positive\n",
    "        ]\n",
    "    ]\n",
    "    return(confusion_matrix(ytrue, ypredicted))"
   ]
  },
  {
   "cell_type": "markdown",
   "metadata": {},
   "source": [
    "If the training is adequate x ≈ 0 ∀ x in the following:"
   ]
  },
  {
   "cell_type": "code",
   "execution_count": null,
   "metadata": {},
   "outputs": [],
   "source": [
    "f = {target: [\n",
    "        outputs for outputs in test_outputs[target]['false']\n",
    "] for target in targets}\n",
    "f"
   ]
  },
  {
   "cell_type": "markdown",
   "metadata": {},
   "source": [
    "If the training is adequate x ≈ 1 ∀ x in the following:"
   ]
  },
  {
   "cell_type": "code",
   "execution_count": null,
   "metadata": {},
   "outputs": [],
   "source": [
    "t = {target: [\n",
    "        outputs for outputs in test_outputs[target]['true']\n",
    "] for target in targets}\n",
    "t"
   ]
  },
  {
   "cell_type": "markdown",
   "metadata": {},
   "source": [
    "Finally, if training is adequate, f ≪ t:"
   ]
  },
  {
   "cell_type": "code",
   "execution_count": null,
   "metadata": {},
   "outputs": [],
   "source": [
    "f_mean = {\n",
    "    target: np.mean(f[target]) for target in targets if target in f and len(f[target])\n",
    "}\n",
    "t_mean = {\n",
    "    target: np.mean(t[target]) for target in targets if target in t and len(t[target])\n",
    "}\n",
    "for target in t_mean:\n",
    "    print(target)\n",
    "    print(\n",
    "        \"f = {0}\\nt = {1}\\n{0} ≪ {1} ?\\n\".format(\n",
    "            str(f_mean[target]),\n",
    "            str(t_mean[target])\n",
    "        ) if f_mean[target] < t_mean[target] else \"f = {0}\\nt = {1}\\n{2}\".format(\n",
    "            str(f_mean[target]),\n",
    "            str(t_mean[target]),\n",
    "            stylize(\n",
    "                \"Nope. f > t\\n\",\n",
    "                colored.fg(\"red\")\n",
    "            )\n",
    "        )\n",
    "    )\n",
    "for target in t_mean:\n",
    "    print(\"{0}: f = {1:.4f} < t = {2:.4f}\".format(\n",
    "        target,\n",
    "        f_mean[target],\n",
    "        t_mean[target]\n",
    "    ))"
   ]
  }
 ],
 "metadata": {
  "kernelspec": {
   "display_name": "Python with Pixiedust (Spark 2.2)",
   "language": "python",
   "name": "pythonwithpixiedustspark22"
  },
  "language_info": {
   "codemirror_mode": {
    "name": "ipython",
    "version": 3
   },
   "file_extension": ".py",
   "mimetype": "text/x-python",
   "name": "python",
   "nbconvert_exporter": "python",
   "pygments_lexer": "ipython3",
   "version": "3.6.3"
  }
 },
 "nbformat": 4,
 "nbformat_minor": 2
}
