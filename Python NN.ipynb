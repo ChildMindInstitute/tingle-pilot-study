{
 "cells": [
  {
   "cell_type": "code",
   "execution_count": 1,
   "metadata": {
    "collapsed": true
   },
   "outputs": [],
   "source": [
    "%load_ext autoreload\n",
    "%autoreload 2"
   ]
  },
  {
   "cell_type": "code",
   "execution_count": 2,
   "metadata": {
    "collapsed": true
   },
   "outputs": [],
   "source": [
    "from data import dataloader\n",
    "import pandas as pd\n",
    "import numpy as np\n",
    "import matplotlib.pyplot as plt\n",
    "from sklearn.metrics import accuracy_score\n",
    "from sklearn.neural_network import MLPClassifier\n",
    "import datetime"
   ]
  },
  {
   "cell_type": "code",
   "execution_count": 3,
   "metadata": {
    "scrolled": true
   },
   "outputs": [
    {
     "name": "stdout",
     "output_type": "stream",
     "text": [
      "\u001b[38;5;2mData loaded from Firebase!\u001b[0m\n"
     ]
    }
   ],
   "source": [
    "pilot_data, notes = dataloader.load_from_firebase(notes=True,\n",
    "                                                  start=datetime.datetime(2018, 3, 6, 8),\n",
    "                                                  combine=True,\n",
    "                                                  marked=True)"
   ]
  },
  {
   "cell_type": "code",
   "execution_count": 15,
   "metadata": {
    "scrolled": true
   },
   "outputs": [
    {
     "data": {
      "text/html": [
       "<div>\n",
       "<style>\n",
       "    .dataframe thead tr:only-child th {\n",
       "        text-align: right;\n",
       "    }\n",
       "\n",
       "    .dataframe thead th {\n",
       "        text-align: left;\n",
       "    }\n",
       "\n",
       "    .dataframe tbody tr th {\n",
       "        vertical-align: top;\n",
       "    }\n",
       "</style>\n",
       "<table border=\"1\" class=\"dataframe\">\n",
       "  <thead>\n",
       "    <tr style=\"text-align: right;\">\n",
       "      <th></th>\n",
       "      <th>coordinator</th>\n",
       "      <th>secondCoordinator</th>\n",
       "    </tr>\n",
       "  </thead>\n",
       "  <tbody>\n",
       "    <tr>\n",
       "      <th>2</th>\n",
       "      <td>Jake Son</td>\n",
       "      <td>Jon Clucas</td>\n",
       "    </tr>\n",
       "    <tr>\n",
       "      <th>1077</th>\n",
       "      <td>Jake Son</td>\n",
       "      <td>NaN</td>\n",
       "    </tr>\n",
       "    <tr>\n",
       "      <th>5719</th>\n",
       "      <td>Jon Clucas</td>\n",
       "      <td>Arno Klein</td>\n",
       "    </tr>\n",
       "    <tr>\n",
       "      <th>7198</th>\n",
       "      <td>Jon Clucas</td>\n",
       "      <td>Anirudh Krishnakumar</td>\n",
       "    </tr>\n",
       "    <tr>\n",
       "      <th>11030</th>\n",
       "      <td>Jon Clucas</td>\n",
       "      <td>Jake Son</td>\n",
       "    </tr>\n",
       "    <tr>\n",
       "      <th>16049</th>\n",
       "      <td>Jake Son</td>\n",
       "      <td>Anirudh Krishnakumar</td>\n",
       "    </tr>\n",
       "  </tbody>\n",
       "</table>\n",
       "</div>"
      ],
      "text/plain": [
       "      coordinator     secondCoordinator\n",
       "2        Jake Son            Jon Clucas\n",
       "1077     Jake Son                   NaN\n",
       "5719   Jon Clucas            Arno Klein\n",
       "7198   Jon Clucas  Anirudh Krishnakumar\n",
       "11030  Jon Clucas              Jake Son\n",
       "16049    Jake Son  Anirudh Krishnakumar"
      ]
     },
     "execution_count": 15,
     "metadata": {},
     "output_type": "execute_result"
    }
   ],
   "source": [
    "pilot_data[pilot_data.ontarget==True][pilot_data.thermopile1!=False][['coordinator', 'secondCoordinator']].drop_duplicates()"
   ]
  },
  {
   "cell_type": "code",
   "execution_count": 16,
   "metadata": {
    "scrolled": false
   },
   "outputs": [],
   "source": [
    "pilot_data = pilot_data[pilot_data.ontarget==True][pilot_data.thermopile1!=False]"
   ]
  },
  {
   "cell_type": "code",
   "execution_count": 18,
   "metadata": {
    "scrolled": true
   },
   "outputs": [],
   "source": [
    "pilot_data = pilot_data[['coordinator', 'secondCoordinator', 'target', 'step', 'distance', 'thermopile1', 'thermopile2', 'thermopile3', 'thermopile4']]"
   ]
  },
  {
   "cell_type": "code",
   "execution_count": 37,
   "metadata": {
    "scrolled": false
   },
   "outputs": [
    {
     "ename": "TypeError",
     "evalue": "decoding str is not supported",
     "output_type": "error",
     "traceback": [
      "\u001b[0;31m---------------------------------------------------------------------------\u001b[0m",
      "\u001b[0;31mTypeError\u001b[0m                                 Traceback (most recent call last)",
      "\u001b[0;32m<ipython-input-37-0e83979f60ba>\u001b[0m in \u001b[0;36m<module>\u001b[0;34m()\u001b[0m\n\u001b[1;32m      4\u001b[0m \u001b[0;32mfor\u001b[0m \u001b[0mc1\u001b[0m\u001b[0;34m,\u001b[0m \u001b[0mc2\u001b[0m \u001b[0;32min\u001b[0m \u001b[0;34m[\u001b[0m\u001b[0mitem_1\u001b[0m\u001b[0;34m,\u001b[0m \u001b[0mitem_2\u001b[0m\u001b[0;34m]\u001b[0m\u001b[0;34m:\u001b[0m\u001b[0;34m\u001b[0m\u001b[0m\n\u001b[1;32m      5\u001b[0m \u001b[0;34m\u001b[0m\u001b[0m\n\u001b[0;32m----> 6\u001b[0;31m     \u001b[0mprint\u001b[0m\u001b[0;34m(\u001b[0m\u001b[0;34m'Coordinators: '\u001b[0m \u001b[0;34m+\u001b[0m \u001b[0mstr\u001b[0m\u001b[0;34m(\u001b[0m\u001b[0mc1\u001b[0m\u001b[0;34m,\u001b[0m \u001b[0mc2\u001b[0m\u001b[0;34m)\u001b[0m\u001b[0;34m)\u001b[0m\u001b[0;34m\u001b[0m\u001b[0m\n\u001b[0m\u001b[1;32m      7\u001b[0m     \u001b[0mprint\u001b[0m\u001b[0;34m(\u001b[0m\u001b[0mpilot_data\u001b[0m\u001b[0;34m[\u001b[0m\u001b[0;34m(\u001b[0m\u001b[0mpilot_data\u001b[0m\u001b[0;34m.\u001b[0m\u001b[0mcoordinator\u001b[0m\u001b[0;34m==\u001b[0m\u001b[0mc1\u001b[0m\u001b[0;34m)\u001b[0m \u001b[0;34m&\u001b[0m \u001b[0;34m(\u001b[0m\u001b[0mpilot_data\u001b[0m\u001b[0;34m.\u001b[0m\u001b[0msecondCoordinator\u001b[0m\u001b[0;34m==\u001b[0m\u001b[0mc2\u001b[0m\u001b[0;34m)\u001b[0m\u001b[0;34m]\u001b[0m\u001b[0;34m[\u001b[0m\u001b[0;34m-\u001b[0m\u001b[0;36m1\u001b[0m\u001b[0;34m:\u001b[0m\u001b[0;34m]\u001b[0m\u001b[0;34m)\u001b[0m\u001b[0;34m\u001b[0m\u001b[0m\n",
      "\u001b[0;31mTypeError\u001b[0m: decoding str is not supported"
     ]
    }
   ],
   "source": [
    "item_1 = ['Jake Son', 'Jon Clucas']\n",
    "item_2 = ['Jon Clucas', 'Arno Klein']\n",
    "\n",
    "for c1, c2 in [item_1, item_2]:\n",
    "\n",
    "    print('Coordinators: ' + str(c1) + , c2))\n",
    "    print(pilot_data[(pilot_data.coordinator==c1) & (pilot_data.secondCoordinator==c2)][-1:])\n"
   ]
  },
  {
   "cell_type": "code",
   "execution_count": 5,
   "metadata": {},
   "outputs": [
    {
     "name": "stdout",
     "output_type": "stream",
     "text": [
      "offbody-spiral: 450 on-target samples in 47 iteration blocks\n",
      "food: 228 on-target samples in 3 iteration blocks\n",
      "thumb: 265 on-target samples in 6 iteration blocks\n",
      "nails: 276 on-target samples in 9 iteration blocks\n",
      "smoke: 327 on-target samples in 12 iteration blocks\n",
      "rotate-mouth: 1212 on-target samples in 13 iteration blocks\n",
      "nose: 292 on-target samples in 16 iteration blocks\n",
      "rotate-nose: 1213 on-target samples in 17 iteration blocks\n",
      "cheek: 264 on-target samples in 20 iteration blocks\n",
      "rotate-cheek: 1207 on-target samples in 21 iteration blocks\n",
      "eyebrow: 261 on-target samples in 24 iteration blocks\n",
      "rotate-eyebrow: 1220 on-target samples in 25 iteration blocks\n",
      "top-head: 493 on-target samples in 28 iteration blocks\n",
      "rotate-top-head: 1374 on-target samples in 29 iteration blocks\n",
      "back-head: 289 on-target samples in 32 iteration blocks\n",
      "rotate-back-head: 1208 on-target samples in 33 iteration blocks\n",
      "rotate-chin: 1216 on-target samples in 34 iteration blocks\n",
      "rotate-above-ear: 1212 on-target samples in 35 iteration blocks\n",
      "rotate-opposite-cheek: 1209 on-target samples in 36 iteration blocks\n",
      "paint-front-neck: 1211 on-target samples in 37 iteration blocks\n",
      "paint-back-neck: 1198 on-target samples in 38 iteration blocks\n",
      "paint-ear: 1283 on-target samples in 39 iteration blocks\n",
      "paint-opposite-cheek: 1232 on-target samples in 40 iteration blocks\n",
      "paint-top-head: 1220 on-target samples in 41 iteration blocks\n",
      "paint-front-body: 462 on-target samples in 42 iteration blocks\n",
      "offbody-ceiling: 250 on-target samples in 43 iteration blocks\n",
      "offbody-+: 365 on-target samples in 45 iteration blocks\n",
      "offbody-X: 306 on-target samples in 46 iteration blocks\n",
      "offbody-floor: 147 on-target samples in 44 iteration blocks\n"
     ]
    }
   ],
   "source": [
    "for target in list(pilot_data.target.unique()):\n",
    "    ib =max(\n",
    "        pilot_data.loc[\n",
    "            pilot_data.target==target\n",
    "        ].step.dropna()\n",
    "    )\n",
    "    print(\": \".join([\n",
    "        target,\n",
    "        \"{0} on-target samples in {1} iteration block{2}\".format(\n",
    "            str(len(pilot_data.loc[\n",
    "                (pilot_data.target == target) &\n",
    "                (pilot_data.ontarget)\n",
    "            ])),\n",
    "            \"%.0f\" % ib,\n",
    "            \"s\" if ib != 1 else \"\"\n",
    "        )\n",
    "    ]))"
   ]
  },
  {
   "cell_type": "code",
   "execution_count": 164,
   "metadata": {
    "collapsed": true
   },
   "outputs": [],
   "source": [
    "# Group each on_target with off_target regions for training/testing\n",
    "\n",
    "target_groupings = {'food': ['nose', 'cheek', 'eyebrow', 'top-head'],\n",
    "                    'thumb': ['nose', 'cheek', 'eyebrow', 'top-head'],\n",
    "                    'nails': ['nose', 'cheek', 'eyebrow', 'top-head'],\n",
    "                    'smoke': ['paint-front-neck', 'nose', 'cheek', 'eyebrow', 'top-head'],\n",
    "                    'nose': ['paint-front-neck', 'chin', 'food', 'thumb', 'nails', 'smoke', 'cheek', 'eyebrow', 'top-head'],\n",
    "                    'cheek': ['paint-front-neck', 'chin', 'food', 'thumb', 'nails', 'smoke', 'nose', 'eyebrow', 'top-head'],\n",
    "                    'eyebrow': ['paint-front-neck', 'chin', 'food', 'thumb', 'nails', 'smoke', 'nose', 'cheek', 'top-head'],\n",
    "                    'top-head': ['paint-front-neck', 'chin', 'food', 'thumb', 'nails', 'smoke', 'nose', 'cheek', 'eyebrow']\n",
    "                   }"
   ]
  },
  {
   "cell_type": "code",
   "execution_count": 165,
   "metadata": {
    "collapsed": true
   },
   "outputs": [],
   "source": [
    "# Separate data into on-target and off-target data\n",
    "\n",
    "def parse_data(on_target, target_groupings):\n",
    "    \n",
    "    targets = ['food', 'thumb', 'nails', 'smoke', 'nose', 'cheek', 'eyebrow', 'top-head']\n",
    "    off_targets = ['behind-ear', 'forehead', 'back-head', 'opposite-face', 'rotate-mouth',\n",
    "                   'rotate-nose', 'rotate-cheek', 'rotate-eyebrow', 'rotate-top-head', 'rotate-back-head',\n",
    "                   'rotate-chin', 'rotate-above-ear', 'rotate-opposite-cheek', 'paint-back-neck',\n",
    "                   'paint-ear', 'paint-opposite-cheek', 'paint-top-head', 'paint-front-body', 'offbody-ceiling',\n",
    "                   'offbody-floor', 'offbody-+' ,'offbody-X', 'offbody-spiral'\n",
    "                  ]\n",
    "    off_targets = list({*off_targets, *target_groupings[on_target]})\n",
    "    \n",
    "    pilot_true = []\n",
    "    pilot_false = []\n",
    "\n",
    "    for row in pilot_data[(pilot_data.target == on_target) & (pilot_data.ontarget)][['distance', 'thermopile1','thermopile2','thermopile3','thermopile4']].values.tolist():\n",
    "        if row[0] != str('0.0') and row[0] != False:\n",
    "            pilot_true.append({'in':row, 'out':1})\n",
    "    for row in pilot_data[(pilot_data.target.isin(off_targets)) & (pilot_data.ontarget)][['distance', 'thermopile1', 'thermopile2', 'thermopile3', 'thermopile4']].values.tolist():\n",
    "        if row[0] != str('0.0') and row[0] != False:\n",
    "            pilot_false.append({'in':row, 'out':0})\n",
    "    \n",
    "    on_data = []\n",
    "    on_targets = []\n",
    "\n",
    "    for piles in pilot_true:\n",
    "        on_data.append([float(x) for x in piles['in']])\n",
    "        on_targets.append(piles['out'])\n",
    "\n",
    "    off_data = []\n",
    "    off_targets = []\n",
    "\n",
    "    for piles in pilot_false:\n",
    "        off_data.append([float(x) for x in piles['in']])\n",
    "        off_targets.append(piles['out'])\n",
    "        \n",
    "    return on_data, on_targets, off_data, off_targets\n",
    "    \n",
    "on_data, on_targets, off_data, off_targets = parse_data('cheek', target_groupings)"
   ]
  },
  {
   "cell_type": "code",
   "execution_count": 166,
   "metadata": {},
   "outputs": [
    {
     "name": "stdout",
     "output_type": "stream",
     "text": [
      "Training set size: 42\n"
     ]
    }
   ],
   "source": [
    "# Separate into train / test sets\n",
    "\n",
    "def train_test(on_data, on_targets, off_data, off_targets):\n",
    "\n",
    "    train_size_on = int(np.round(.50*len(on_data), 0))\n",
    "    train_size_off = int(np.round(.50*len(off_data), 0))\n",
    "    \n",
    "    if train_size_on > train_size_off:\n",
    "        train_size = train_size_off\n",
    "    else:\n",
    "        train_size = train_size_on\n",
    "\n",
    "    train_data = []\n",
    "    train_data_p = []\n",
    "    test_data = []\n",
    "    test_data_p = []\n",
    "    train_targets = []\n",
    "    test_targets = []\n",
    "\n",
    "    train_data_p.extend(on_data[:train_size])\n",
    "    train_data_p.extend(off_data[:train_size])\n",
    "\n",
    "    for row in train_data_p:\n",
    "        row = [np.round(float(x)/150,3) for x in row]\n",
    "        train_data.append(row)\n",
    "\n",
    "    test_data_p.extend(on_data[train_size:])\n",
    "    test_data_p.extend(off_data[train_size:])\n",
    "\n",
    "    for row in test_data_p:\n",
    "        row = [np.round(float(x)/150,3) for x in row]\n",
    "        test_data.append(row)\n",
    "\n",
    "    train_targets.extend(on_targets[:train_size])\n",
    "    train_targets.extend(off_targets[:train_size])\n",
    "    test_targets.extend(on_targets[train_size:])\n",
    "    test_targets.extend(off_targets[train_size:])\n",
    "    \n",
    "    print('Training set size: ' + str(train_size))\n",
    "    \n",
    "    return train_data, train_targets, test_data, test_targets\n",
    "\n",
    "train_data, train_targets, test_data, test_targets = train_test(on_data, on_targets, off_data, off_targets)"
   ]
  },
  {
   "cell_type": "code",
   "execution_count": 169,
   "metadata": {
    "scrolled": false
   },
   "outputs": [
    {
     "name": "stdout",
     "output_type": "stream",
     "text": [
      "0.34146341463414637 0.2637772675086108 0.6585365853658537 0.7362227324913893\n"
     ]
    },
    {
     "data": {
      "image/png": "[encoded data removed]",
      "text/plain": [
       "<matplotlib.figure.Figure at 0x11ddbb710>"
      ]
     },
     "metadata": {},
     "output_type": "display_data"
    }
   ],
   "source": [
    "from sklearn.metrics import roc_curve, auc\n",
    "\n",
    "def nn_iterations(train_data, train_targets, test_data, test_targets, iterations=100):\n",
    "    \n",
    "    true_pos_sum = []\n",
    "    true_neg_sum = []\n",
    "    fals_pos_sum = []\n",
    "    fals_neg_sum = []\n",
    "    sum_stats = []\n",
    "    \n",
    "    plt.figure(figsize=(5,5))\n",
    "    \n",
    "    for num in range(iterations):\n",
    "        \n",
    "        clf = MLPClassifier(solver='adam', alpha=.0001,\n",
    "                            hidden_layer_sizes=(5,2),\n",
    "                            max_iter=10000, verbose=False,\n",
    "                            tol=.000001)\n",
    "        clf.fit(train_data, train_targets)\n",
    "        \n",
    "        num_predict = len(test_data)\n",
    "\n",
    "        predictions = clf.predict(test_data[:num_predict])\n",
    "        predi_probs = clf.predict_proba(test_data[:num_predict])\n",
    "        \n",
    "        fpr, tpr, thresholds = roc_curve(test_targets, predi_probs[:, 1], drop_intermediate=True)\n",
    "        roc_auc = auc(fpr, tpr)\n",
    "        if roc_auc > .55:\n",
    "            plt.plot(fpr, tpr, lw=1, alpha=0.5, label='ROC fold (AUC = %0.2f)' % (roc_auc))\n",
    "        \n",
    "        predi_fals = [x for x,y in predi_probs]\n",
    "        predi_true = [y for x,y in predi_probs]\n",
    "        \n",
    "        for item in range(len(predictions)):\n",
    "            \n",
    "            if predictions[item] == test_targets[item]:\n",
    "                pred = 'correct'\n",
    "            else:\n",
    "                pred = 'incorrect'\n",
    "            \n",
    "            sum_stats.append({str(num + 1): [test_targets[item], predictions[item], predi_probs[item][0], predi_probs[item][1], pred]})\n",
    "\n",
    "        count_neg = len([x for x in test_targets if x == 0])\n",
    "        count_pos = len([x for x in test_targets if x == 1])\n",
    "        \n",
    "        true_pos = []\n",
    "        true_neg = []\n",
    "        fals_pos = []\n",
    "        fals_neg = []\n",
    "\n",
    "        for sample in range(len(test_data)):\n",
    "            if test_targets[sample] == 0:\n",
    "                if predictions[sample] == test_targets[sample]:\n",
    "                    true_neg.append(sample)\n",
    "                else:\n",
    "                    fals_neg.append(sample)\n",
    "            elif test_targets[sample] == 1:\n",
    "                if predictions[sample] == test_targets[sample]:\n",
    "                    true_pos.append(sample)\n",
    "                else:\n",
    "                    fals_pos.append(sample)\n",
    "\n",
    "        fals_pos_sum.append(str(len(fals_pos)/count_pos))\n",
    "        fals_neg_sum.append(str(len(fals_neg)/count_neg))\n",
    "        true_pos_sum.append(str(len(true_pos)/count_pos))\n",
    "        true_neg_sum.append(str(len(true_neg)/count_neg))\n",
    "        \n",
    "        \n",
    "        if roc_auc > .55:\n",
    "            print(str(len(fals_pos)/count_pos), str(len(fals_neg)/count_neg), str(len(true_pos)/count_pos), str(len(true_neg)/count_neg))\n",
    "        \n",
    "    plt.plot([0, 1], [0, 1], linestyle='--', lw=2, color='r', label='Luck', alpha=.8)\n",
    "    plt.legend()\n",
    "    plt.grid(True)\n",
    "    plt.show()\n",
    "    \n",
    "    fals_pos_sum = [float(x) for x in fals_pos_sum]\n",
    "    fals_neg_sum = [float(x) for x in fals_neg_sum]\n",
    "    true_pos_sum = [float(x) for x in true_pos_sum]\n",
    "    true_neg_sum = [float(x) for x in true_neg_sum]\n",
    "        \n",
    "    fals_pos_sum = np.average(np.array(fals_pos_sum))\n",
    "    fals_neg_sum = np.average(np.array(fals_neg_sum))\n",
    "    true_pos_sum = np.average(np.array(true_pos_sum))\n",
    "    true_neg_sum = np.average(np.array(true_neg_sum))\n",
    "\n",
    "#     print('Summary statistics after ' + str(iterations) + ' iterations:')\n",
    "#     print('True positive rate:  ' + str(np.round(true_pos_sum,3)))\n",
    "#     print('False positive rate: ' + str(np.round(fals_pos_sum,3)))\n",
    "#     print('True negative rate:  ' + str(np.round(true_neg_sum,3)))\n",
    "#     print('False negative rate: ' + str(np.round(fals_neg_sum,3)))\n",
    "    \n",
    "    return predi_probs, sum_stats\n",
    "    \n",
    "predi_probs, sum_stats = nn_iterations(train_data, train_targets, test_data, test_targets, iterations=1)"
   ]
  },
  {
   "cell_type": "code",
   "execution_count": 163,
   "metadata": {
    "scrolled": true
   },
   "outputs": [
    {
     "name": "stdout",
     "output_type": "stream",
     "text": [
      "{'1': [1, 1, 0.0015978923248050059, 0.99840210767519499, 'correct']}\n",
      "{'1': [1, 1, 0.00022937999229144523, 0.99977062000770855, 'correct']}\n",
      "{'1': [1, 1, 8.8687837422884996e-05, 0.99991131216257712, 'correct']}\n",
      "{'1': [1, 1, 0.00018826453506592955, 0.99981173546493407, 'correct']}\n",
      "{'1': [1, 1, 0.00015391809146791946, 0.99984608190853208, 'correct']}\n",
      "{'1': [1, 1, 0.00022770047912712421, 0.99977229952087288, 'correct']}\n",
      "{'1': [1, 1, 0.0040966500613023316, 0.99590334993869767, 'correct']}\n",
      "{'1': [1, 1, 0.0036428556321441707, 0.99635714436785583, 'correct']}\n",
      "{'1': [1, 1, 0.0012434181605687211, 0.99875658183943128, 'correct']}\n",
      "{'1': [1, 1, 0.045721099506494278, 0.95427890049350572, 'correct']}\n",
      "{'1': [1, 1, 0.096871151292472701, 0.9031288487075273, 'correct']}\n",
      "{'1': [1, 1, 0.35664015709349584, 0.64335984290650416, 'correct']}\n",
      "{'1': [1, 0, 0.66131734365348993, 0.33868265634651007, 'incorrect']}\n",
      "{'1': [1, 1, 0.37857569826530724, 0.62142430173469276, 'correct']}\n",
      "{'1': [1, 0, 0.55404610118513964, 0.44595389881486031, 'incorrect']}\n",
      "{'1': [1, 0, 0.72163279488280718, 0.27836720511719276, 'incorrect']}\n",
      "{'1': [1, 1, 0.46537766074580578, 0.53462233925419422, 'correct']}\n",
      "{'1': [1, 0, 0.63625493899962637, 0.36374506100037368, 'incorrect']}\n",
      "{'1': [1, 1, 0.0046237632329061418, 0.99537623676709386, 'correct']}\n",
      "{'1': [1, 0, 0.59425719248721354, 0.40574280751278652, 'incorrect']}\n",
      "{'1': [1, 0, 0.96129396969930869, 0.038706030300691349, 'incorrect']}\n",
      "{'1': [1, 0, 0.95159441371078834, 0.048405586289211613, 'incorrect']}\n",
      "{'1': [1, 0, 0.95772354858344533, 0.042276451416554721, 'incorrect']}\n",
      "{'1': [1, 0, 0.96129396969930869, 0.038706030300691349, 'incorrect']}\n",
      "{'1': [1, 0, 0.96129396969930869, 0.038706030300691349, 'incorrect']}\n",
      "{'1': [1, 0, 0.96129396969930869, 0.038706030300691349, 'incorrect']}\n",
      "{'1': [1, 0, 0.96129396969930869, 0.038706030300691349, 'incorrect']}\n",
      "{'1': [1, 1, 0.088302453875046982, 0.91169754612495302, 'correct']}\n",
      "{'1': [1, 1, 0.12391365259435283, 0.87608634740564717, 'correct']}\n",
      "{'1': [1, 1, 0.28579139253438357, 0.71420860746561643, 'correct']}\n",
      "{'1': [1, 0, 0.65980138105258024, 0.34019861894741976, 'incorrect']}\n",
      "{'1': [1, 0, 0.74111945263491608, 0.25888054736508398, 'incorrect']}\n",
      "{'1': [1, 0, 0.85275951276667428, 0.14724048723332578, 'incorrect']}\n",
      "{'1': [1, 0, 0.88787725764116399, 0.11212274235883597, 'incorrect']}\n",
      "{'1': [1, 0, 0.93277782798476261, 0.067222172015237419, 'incorrect']}\n",
      "{'1': [1, 0, 0.95101313183354397, 0.04898686816645606, 'incorrect']}\n",
      "{'1': [1, 0, 0.9452566125991313, 0.054743387400868655, 'incorrect']}\n",
      "{'1': [1, 1, 0.14737914689287657, 0.85262085310712343, 'correct']}\n",
      "{'1': [1, 1, 0.098009993755305724, 0.90199000624469428, 'correct']}\n",
      "{'1': [1, 1, 0.045839627009950146, 0.95416037299004985, 'correct']}\n",
      "{'1': [1, 1, 0.0097399983737824769, 0.99026000162621752, 'correct']}\n",
      "{'1': [0, 1, 0.36069117563760111, 0.63930882436239889, 'incorrect']}\n",
      "{'1': [0, 1, 0.40877440232703599, 0.59122559767296401, 'incorrect']}\n",
      "{'1': [0, 1, 0.36433284647043318, 0.63566715352956682, 'incorrect']}\n",
      "{'1': [0, 1, 0.44978765363940776, 0.55021234636059224, 'incorrect']}\n",
      "{'1': [0, 0, 0.79547482796049762, 0.20452517203950241, 'correct']}\n",
      "{'1': [0, 0, 0.62281599773662533, 0.37718400226337467, 'correct']}\n",
      "{'1': [0, 0, 0.52299327319774225, 0.4770067268022577, 'correct']}\n",
      "{'1': [0, 1, 0.45205478421316136, 0.54794521578683864, 'incorrect']}\n",
      "{'1': [0, 1, 0.44861154532764247, 0.55138845467235753, 'incorrect']}\n"
     ]
    }
   ],
   "source": [
    "for row in sum_stats[:50]:\n",
    "    print(row)"
   ]
  },
  {
   "cell_type": "code",
   "execution_count": null,
   "metadata": {
    "collapsed": true
   },
   "outputs": [],
   "source": []
  }
 ],
 "metadata": {
  "kernelspec": {
   "display_name": "Python 3",
   "language": "python",
   "name": "python3"
  },
  "language_info": {
   "codemirror_mode": {
    "name": "ipython",
    "version": 3
   },
   "file_extension": ".py",
   "mimetype": "text/x-python",
   "name": "python",
   "nbconvert_exporter": "python",
   "pygments_lexer": "ipython3",
   "version": "3.6.1"
  }
 },
 "nbformat": 4,
 "nbformat_minor": 2
}
