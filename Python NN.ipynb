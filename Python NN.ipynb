{
 "cells": [
  {
   "cell_type": "code",
   "execution_count": 18,
   "metadata": {},
   "outputs": [
    {
     "name": "stdout",
     "output_type": "stream",
     "text": [
      "The autoreload extension is already loaded. To reload it, use:\n",
      "  %reload_ext autoreload\n"
     ]
    }
   ],
   "source": [
    "%load_ext autoreload\n",
    "%autoreload 2"
   ]
  },
  {
   "cell_type": "code",
   "execution_count": 20,
   "metadata": {
    "collapsed": true
   },
   "outputs": [],
   "source": [
    "from data import dataloader\n",
    "import pandas as pd\n",
    "import numpy as np"
   ]
  },
  {
   "cell_type": "code",
   "execution_count": 11,
   "metadata": {},
   "outputs": [
    {
     "name": "stdout",
     "output_type": "stream",
     "text": [
      "\u001b[38;5;2mData loaded from Firebase!\u001b[0m\n"
     ]
    }
   ],
   "source": [
    "pilot_data = dataloader.break_out_blocks(\n",
    "    dataloader.load_from_firebase()\n",
    ")"
   ]
  },
  {
   "cell_type": "code",
   "execution_count": 21,
   "metadata": {},
   "outputs": [
    {
     "name": "stdout",
     "output_type": "stream",
     "text": [
      "none: 19 on-target samples in 2 iteration blocks\n",
      "environment: 106 on-target samples in 4 iteration blocks\n",
      "body: 101 on-target samples in 2 iteration blocks\n",
      "cup: 33 on-target samples in 3 iteration blocks\n",
      "food: 35 on-target samples in 4 iteration blocks\n",
      "nails: 69 on-target samples in 3 iteration blocks\n",
      "smoke: 92 on-target samples in 3 iteration blocks\n",
      "eyebrow: 235 on-target samples in 5 iteration blocks\n",
      "nose: 249 on-target samples in 4 iteration blocks\n",
      "above-ear: 403 on-target samples in 5 iteration blocks\n",
      "behind-ear: 220 on-target samples in 4 iteration blocks\n",
      "opposite-cheek: 74 on-target samples in 6 iteration blocks\n",
      "chin: 166 on-target samples in 1 iteration block\n",
      "cheek: 686 on-target samples in 6 iteration blocks\n",
      "forehead: 176 on-target samples in 1 iteration block\n",
      "top-head: 160 on-target samples in 1 iteration block\n",
      "back-head: 170 on-target samples in 1 iteration block\n",
      "opposite-face: 381 on-target samples in 2 iteration blocks\n",
      "paint-mouth: 81 on-target samples in 3 iteration blocks\n",
      "paint-eyebrow: 82 on-target samples in 3 iteration blocks\n",
      "paint-above-ear: 80 on-target samples in 3 iteration blocks\n",
      "paint-behind-ear: 181 on-target samples in 6 iteration blocks\n",
      "paint-opposite-cheek: 86 on-target samples in 3 iteration blocks\n"
     ]
    }
   ],
   "source": [
    "for target in list(pilot_data.target.unique()):\n",
    "    ib =max(\n",
    "        pilot_data.loc[\n",
    "            pilot_data.target==target\n",
    "        ].iteration_block.dropna()\n",
    "    )\n",
    "    print(\": \".join([\n",
    "        target,\n",
    "        \"{0} on-target samples in {1} iteration block{2}\".format(\n",
    "            str(len(pilot_data.loc[\n",
    "                (pilot_data.target == target) &\n",
    "                (pilot_data.ontarget)\n",
    "            ])),\n",
    "            \"%.0f\" % ib,\n",
    "            \"s\" if ib != 1 else \"\"\n",
    "        )\n",
    "    ]))\n"
   ]
  },
  {
   "cell_type": "code",
   "execution_count": 38,
   "metadata": {},
   "outputs": [
    {
     "ename": "TypeError",
     "evalue": "unhashable type: 'list'",
     "output_type": "error",
     "traceback": [
      "\u001b[0;31m---------------------------------------------------------------------------\u001b[0m",
      "\u001b[0;31mTypeError\u001b[0m                                 Traceback (most recent call last)",
      "\u001b[0;32m<ipython-input-38-44fab1987a3d>\u001b[0m in \u001b[0;36m<module>\u001b[0;34m()\u001b[0m\n\u001b[1;32m      1\u001b[0m \u001b[0mpilot_subset\u001b[0m \u001b[0;34m=\u001b[0m \u001b[0;34m[\u001b[0m\u001b[0;34m]\u001b[0m\u001b[0;34m\u001b[0m\u001b[0m\n\u001b[1;32m      2\u001b[0m \u001b[0;32mfor\u001b[0m \u001b[0mrow\u001b[0m \u001b[0;32min\u001b[0m \u001b[0mpilot_data\u001b[0m\u001b[0;34m[\u001b[0m\u001b[0;34m(\u001b[0m\u001b[0mpilot_data\u001b[0m\u001b[0;34m.\u001b[0m\u001b[0mtarget\u001b[0m \u001b[0;34m==\u001b[0m \u001b[0;34m'cheek'\u001b[0m\u001b[0;34m)\u001b[0m \u001b[0;34m&\u001b[0m \u001b[0;34m(\u001b[0m\u001b[0mpilot_data\u001b[0m\u001b[0;34m.\u001b[0m\u001b[0montarget\u001b[0m\u001b[0;34m)\u001b[0m\u001b[0;34m]\u001b[0m\u001b[0;34m[\u001b[0m\u001b[0;34m[\u001b[0m\u001b[0;34m'thermopile1'\u001b[0m\u001b[0;34m,\u001b[0m\u001b[0;34m'thermopile2'\u001b[0m\u001b[0;34m,\u001b[0m\u001b[0;34m'thermopile3'\u001b[0m\u001b[0;34m,\u001b[0m\u001b[0;34m'thermopile4'\u001b[0m\u001b[0;34m]\u001b[0m\u001b[0;34m]\u001b[0m\u001b[0;34m.\u001b[0m\u001b[0mvalues\u001b[0m\u001b[0;34m.\u001b[0m\u001b[0mtolist\u001b[0m\u001b[0;34m(\u001b[0m\u001b[0;34m)\u001b[0m\u001b[0;34m:\u001b[0m\u001b[0;34m\u001b[0m\u001b[0m\n\u001b[0;32m----> 3\u001b[0;31m     \u001b[0mpilot_subset\u001b[0m\u001b[0;34m.\u001b[0m\u001b[0mappend\u001b[0m\u001b[0;34m(\u001b[0m\u001b[0;34m{\u001b[0m\u001b[0mrow\u001b[0m\u001b[0;34m}\u001b[0m\u001b[0;34m)\u001b[0m\u001b[0;34m\u001b[0m\u001b[0m\n\u001b[0m\u001b[1;32m      4\u001b[0m \u001b[0mpilot_subset\u001b[0m\u001b[0;34m\u001b[0m\u001b[0m\n",
      "\u001b[0;31mTypeError\u001b[0m: unhashable type: 'list'"
     ]
    }
   ],
   "source": [
    "pilot_subset = []\n",
    "for row in pilot_data[(pilot_data.target == 'cheek') & (pilot_data.ontarget)][['thermopile1','thermopile2','thermopile3','thermopile4']].values.tolist():\n",
    "    pilot_subset.append({row})\n",
    "pilot_subset"
   ]
  },
  {
   "cell_type": "code",
   "execution_count": null,
   "metadata": {},
   "outputs": [],
   "source": []
  },
  {
   "cell_type": "code",
   "execution_count": null,
   "metadata": {
    "collapsed": true
   },
   "outputs": [],
   "source": []
  }
 ],
 "metadata": {
  "kernelspec": {
   "display_name": "Python 3",
   "language": "python",
   "name": "python3"
  },
  "language_info": {
   "codemirror_mode": {
    "name": "ipython",
    "version": 3
   },
   "file_extension": ".py",
   "mimetype": "text/x-python",
   "name": "python",
   "nbconvert_exporter": "python",
   "pygments_lexer": "ipython3",
   "version": "3.6.1"
  }
 },
 "nbformat": 4,
 "nbformat_minor": 2
}
