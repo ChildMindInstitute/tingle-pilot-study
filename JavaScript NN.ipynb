{
 "cells": [
  {
   "cell_type": "code",
   "execution_count": null,
   "metadata": {
    "collapsed": true
   },
   "outputs": [],
   "source": [
    "%load_ext autoreload\n",
    "%autoreload 2"
   ]
  },
  {
   "cell_type": "code",
   "execution_count": null,
   "metadata": {},
   "outputs": [],
   "source": [
    "from data import dataloader\n",
    "import json\n",
    "from neuralnet import nn\n",
    "import pixiedust_node"
   ]
  },
  {
   "cell_type": "code",
   "execution_count": null,
   "metadata": {},
   "outputs": [],
   "source": [
    "pilot_data = dataloader.break_out_blocks(\n",
    "    dataloader.load_from_firebase()\n",
    ")"
   ]
  },
  {
   "cell_type": "markdown",
   "metadata": {},
   "source": [
    "---"
   ]
  },
  {
   "cell_type": "code",
   "execution_count": null,
   "metadata": {},
   "outputs": [],
   "source": [
    "for target in list(pilot_data.target.unique()):\n",
    "    ib =max(\n",
    "        pilot_data.loc[\n",
    "            pilot_data.target==target\n",
    "        ].iteration_block.dropna()\n",
    "    )\n",
    "    print(\": \".join([\n",
    "        target,\n",
    "        \"{0} on-target samples in {1} iteration block{2}\".format(\n",
    "            str(len(pilot_data.loc[\n",
    "                (pilot_data.target == target) &\n",
    "                (pilot_data.ontarget)\n",
    "            ])),\n",
    "            \"%.0f\" % ib,\n",
    "            \"s\" if ib != 1 else \"\"\n",
    "        )\n",
    "    ]))"
   ]
  },
  {
   "cell_type": "markdown",
   "metadata": {},
   "source": [
    "---"
   ]
  },
  {
   "cell_type": "code",
   "execution_count": null,
   "metadata": {},
   "outputs": [],
   "source": [
    "with open(\n",
    "    'data/targets.json',\n",
    "    'r'\n",
    ") as fp:\n",
    "    targets = json.load(\n",
    "        fp\n",
    "    )[0]"
   ]
  },
  {
   "cell_type": "code",
   "execution_count": null,
   "metadata": {},
   "outputs": [],
   "source": [
    "data = {}\n",
    "for target in targets:\n",
    "    data[target] = {\n",
    "        \"train\": nn.define_trainer_data(\n",
    "            pilot_data,\n",
    "            {\n",
    "                \"target\": [target],\n",
    "                \"offtarget\": targets[target]\n",
    "            },\n",
    "            [\n",
    "                \"thermopile1\",\n",
    "                \"thermopile2\",\n",
    "                \"thermopile3\",\n",
    "                \"thermopile4\"\n",
    "            ],\n",
    "            list(range(1, 7)),\n",
    "            100\n",
    "        ),\n",
    "        \"test_true\": nn.define_activation(\n",
    "            pilot_data,\n",
    "            [target],\n",
    "            [\n",
    "                \"thermopile1\",\n",
    "                \"thermopile2\",\n",
    "                \"thermopile3\",\n",
    "                \"thermopile4\"\n",
    "            ],\n",
    "            list(range(1, 7)),\n",
    "            exclude=100\n",
    "        ),\n",
    "        \"test_false\": nn.define_activation(\n",
    "            pilot_data,\n",
    "            targets[target],\n",
    "            [\n",
    "                \"thermopile1\",\n",
    "                \"thermopile2\",\n",
    "                \"thermopile3\",\n",
    "                \"thermopile4\"\n",
    "            ],\n",
    "            list(range(1, 7)),\n",
    "            exclude=100\n",
    "        )\n",
    "    }"
   ]
  },
  {
   "cell_type": "markdown",
   "metadata": {},
   "source": [
    "---"
   ]
  },
  {
   "cell_type": "code",
   "execution_count": null,
   "metadata": {
    "collapsed": true
   },
   "outputs": [],
   "source": [
    "%%node\n",
    "var synaptic = require('synaptic');\n",
    "var Neuron = synaptic.Neuron,\n",
    "\tLayer = synaptic.Layer,\n",
    "\tNetwork = synaptic.Network,\n",
    "\tTrainer = synaptic.Trainer,\n",
    "\tArchitect = synaptic.Architect;"
   ]
  },
  {
   "cell_type": "code",
   "execution_count": null,
   "metadata": {},
   "outputs": [],
   "source": [
    "%%node\n",
    "/**\n",
    " * @function Perceptron - Function to create synaptic perceptron\n",
    " * @see https://github.com/cazala/synaptic/blob/master/README.md\n",
    " * @param input\n",
    " * @param hidden\n",
    " * @param output\n",
    " * @this\n",
    " */\n",
    "function Perceptron(input, hidden, output){\n",
    "\t// create the layers\n",
    "\tvar inputLayer = new Layer(input);\n",
    "\tvar hiddenLayer = new Layer(hidden);\n",
    "\tvar outputLayer = new Layer(output);\n",
    "\n",
    "\t// connect the layers\n",
    "\tinputLayer.project(hiddenLayer);\n",
    "\thiddenLayer.project(outputLayer);\n",
    "\n",
    "\t// set the layers\n",
    "\tthis.set({\n",
    "\t\tinput: inputLayer,\n",
    "\t\thidden: [hiddenLayer],\n",
    "\t\toutput: outputLayer\n",
    "\t});\n",
    "}\n",
    "\n",
    "// extend the prototype chain\n",
    "Perceptron.prototype = new Network();\n",
    "Perceptron.prototype.constructor = Perceptron;\n",
    "\n",
    "function runPerceptronOnList(perceptron, listOfInputs){\n",
    "    var outputs = [];\n",
    "    for(var i=0; i<listOfInputs.length; i++){\n",
    "        outputs.push(perceptron.activate(listOfInputs[i]));\n",
    "    }\n",
    "    return(outputs);\n",
    "}"
   ]
  },
  {
   "cell_type": "code",
   "execution_count": null,
   "metadata": {},
   "outputs": [],
   "source": [
    "%%node\n",
    "var perceptron5 = new Perceptron(4,5,1);\n",
    "var perceptron7 = new Perceptron(4,7,1);\n",
    "var trainer5 = new Trainer(perceptron5);\n",
    "var trainer7 = new Trainer(perceptron7);\n",
    "\n",
    "trainer5.train(cheek_train);\n",
    "trainer7.train(cheek_train);"
   ]
  },
  {
   "cell_type": "code",
   "execution_count": null,
   "metadata": {
    "pixiedust": {
     "displayParams": {
      "handlerId": "tableView"
     }
    }
   },
   "outputs": [],
   "source": [
    "%%node\n",
    "print(runPerceptronOnList(perceptron5, cheek_test_true))"
   ]
  },
  {
   "cell_type": "code",
   "execution_count": null,
   "metadata": {
    "collapsed": true
   },
   "outputs": [],
   "source": []
  }
 ],
 "metadata": {
  "kernelspec": {
   "display_name": "Python with Pixiedust (Spark 2.2)",
   "language": "python",
   "name": "pythonwithpixiedustspark22"
  },
  "language_info": {
   "codemirror_mode": {
    "name": "ipython",
    "version": 3
   },
   "file_extension": ".py",
   "mimetype": "text/x-python",
   "name": "python",
   "nbconvert_exporter": "python",
   "pygments_lexer": "ipython3",
   "version": "3.6.3"
  }
 },
 "nbformat": 4,
 "nbformat_minor": 2
}
