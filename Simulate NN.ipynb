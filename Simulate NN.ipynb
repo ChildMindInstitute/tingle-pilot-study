{
 "cells": [
  {
   "cell_type": "code",
   "execution_count": 1,
   "metadata": {},
   "outputs": [],
   "source": [
    "%load_ext autoreload\n",
    "%autoreload 2"
   ]
  },
  {
   "cell_type": "code",
   "execution_count": 66,
   "metadata": {},
   "outputs": [],
   "source": [
    "from data import dataloader\n",
    "from neuralnet import nn"
   ]
  },
  {
   "cell_type": "code",
   "execution_count": 3,
   "metadata": {},
   "outputs": [
    {
     "name": "stdout",
     "output_type": "stream",
     "text": [
      "\u001b[38;5;2mData loaded from Firebase!\u001b[0m\n"
     ]
    }
   ],
   "source": [
    "pilot_data = dataloader.break_out_blocks(\n",
    "    dataloader.load_from_firebase()\n",
    ")"
   ]
  },
  {
   "cell_type": "markdown",
   "metadata": {},
   "source": [
    "---"
   ]
  },
  {
   "cell_type": "code",
   "execution_count": 18,
   "metadata": {},
   "outputs": [
    {
     "name": "stdout",
     "output_type": "stream",
     "text": [
      "none: 19 on-target samples in 2 iteration blocks\n",
      "environment: 106 on-target samples in 4 iteration blocks\n",
      "body: 101 on-target samples in 2 iteration blocks\n",
      "cup: 33 on-target samples in 3 iteration blocks\n",
      "food: 35 on-target samples in 4 iteration blocks\n",
      "nails: 69 on-target samples in 3 iteration blocks\n",
      "smoke: 92 on-target samples in 3 iteration blocks\n",
      "eyebrow: 235 on-target samples in 5 iteration blocks\n",
      "nose: 249 on-target samples in 4 iteration blocks\n",
      "above-ear: 403 on-target samples in 5 iteration blocks\n",
      "behind-ear: 220 on-target samples in 4 iteration blocks\n",
      "opposite-cheek: 74 on-target samples in 6 iteration blocks\n",
      "chin: 166 on-target samples in 1 iteration block\n",
      "cheek: 686 on-target samples in 6 iteration blocks\n",
      "forehead: 176 on-target samples in 1 iteration block\n",
      "top-head: 160 on-target samples in 1 iteration block\n",
      "back-head: 170 on-target samples in 1 iteration block\n",
      "opposite-face: 381 on-target samples in 2 iteration blocks\n",
      "paint-mouth: 81 on-target samples in 3 iteration blocks\n",
      "paint-eyebrow: 82 on-target samples in 3 iteration blocks\n",
      "paint-above-ear: 80 on-target samples in 3 iteration blocks\n",
      "paint-behind-ear: 181 on-target samples in 6 iteration blocks\n",
      "paint-opposite-cheek: 86 on-target samples in 3 iteration blocks\n"
     ]
    }
   ],
   "source": [
    "for target in list(pilot_data.target.unique()):\n",
    "    ib =max(\n",
    "        pilot_data.loc[\n",
    "            pilot_data.target==target\n",
    "        ].iteration_block.dropna()\n",
    "    )\n",
    "    print(\": \".join([\n",
    "        target,\n",
    "        \"{0} on-target samples in {1} iteration block{2}\".format(\n",
    "            str(len(pilot_data.loc[\n",
    "                (pilot_data.target == target) &\n",
    "                (pilot_data.ontarget)\n",
    "            ])),\n",
    "            \"%.0f\" % ib,\n",
    "            \"s\" if ib != 1 else \"\"\n",
    "        )\n",
    "    ]))"
   ]
  },
  {
   "cell_type": "code",
   "execution_count": 62,
   "metadata": {},
   "outputs": [],
   "source": []
  },
  {
   "cell_type": "code",
   "execution_count": 67,
   "metadata": {},
   "outputs": [
    {
     "ename": "NameError",
     "evalue": "name 'np' is not defined",
     "output_type": "error",
     "traceback": [
      "\u001b[0;31m---------------------------------------------------------------------------\u001b[0m",
      "\u001b[0;31mNameError\u001b[0m                                 Traceback (most recent call last)",
      "\u001b[0;32m<ipython-input-67-a86e49a9590c>\u001b[0m in \u001b[0;36m<module>\u001b[0;34m()\u001b[0m\n\u001b[1;32m     13\u001b[0m     ],\n\u001b[1;32m     14\u001b[0m     [\n\u001b[0;32m---> 15\u001b[0;31m         \u001b[0;36m1\u001b[0m\u001b[0;34m\u001b[0m\u001b[0m\n\u001b[0m\u001b[1;32m     16\u001b[0m     ]\n\u001b[1;32m     17\u001b[0m )\n",
      "\u001b[0;32m~/tingle-pilot-study/neuralnet/nn.py\u001b[0m in \u001b[0;36mdefine_trainer_data\u001b[0;34m(df, targets, training_columns, train_blocks)\u001b[0m\n\u001b[1;32m     62\u001b[0m                     \"output\": place_true(\n\u001b[1;32m     63\u001b[0m                         \u001b[0mnum_targets\u001b[0m\u001b[0;34m,\u001b[0m\u001b[0;34m\u001b[0m\u001b[0m\n\u001b[0;32m---> 64\u001b[0;31m                         \u001b[0mi\u001b[0m\u001b[0;34m\u001b[0m\u001b[0m\n\u001b[0m\u001b[1;32m     65\u001b[0m                     )\n\u001b[1;32m     66\u001b[0m                 }\n",
      "\u001b[0;32m~/tingle-pilot-study/neuralnet/nn.py\u001b[0m in \u001b[0;36mplace_true\u001b[0;34m(total, index)\u001b[0m\n\u001b[1;32m     16\u001b[0m         \u001b[0mone\u001b[0m\u001b[0;34m-\u001b[0m\u001b[0mhot\u001b[0m \u001b[0mlist\u001b[0m\u001b[0;34m\u001b[0m\u001b[0m\n\u001b[1;32m     17\u001b[0m     \"\"\"\n\u001b[0;32m---> 18\u001b[0;31m     \u001b[0ml\u001b[0m \u001b[0;34m=\u001b[0m \u001b[0mlist\u001b[0m\u001b[0;34m(\u001b[0m\u001b[0mnp\u001b[0m\u001b[0;34m.\u001b[0m\u001b[0mzeros\u001b[0m\u001b[0;34m(\u001b[0m\u001b[0mtotal\u001b[0m\u001b[0;34m,\u001b[0m \u001b[0mint\u001b[0m\u001b[0;34m)\u001b[0m\u001b[0;34m)\u001b[0m\u001b[0;34m\u001b[0m\u001b[0m\n\u001b[0m\u001b[1;32m     19\u001b[0m     \u001b[0ml\u001b[0m\u001b[0;34m[\u001b[0m\u001b[0mindex\u001b[0m\u001b[0;34m]\u001b[0m \u001b[0;34m=\u001b[0m \u001b[0;36m1\u001b[0m\u001b[0;34m\u001b[0m\u001b[0m\n\u001b[1;32m     20\u001b[0m     \u001b[0;32mreturn\u001b[0m\u001b[0;34m(\u001b[0m\u001b[0ml\u001b[0m\u001b[0;34m)\u001b[0m\u001b[0;34m\u001b[0m\u001b[0m\n",
      "\u001b[0;31mNameError\u001b[0m: name 'np' is not defined"
     ]
    }
   ],
   "source": [
    "#test\n",
    "nn.define_trainer_data(\n",
    "    pilot_data,\n",
    "    {\n",
    "        \"target\": [\"cheek\"],\n",
    "        \"offtarget\": [\"environment\"]\n",
    "    },\n",
    "    [\n",
    "        \"thermopile1\",\n",
    "        \"thermopile2\",\n",
    "        \"thermopile3\",\n",
    "        \"thermopile4\"\n",
    "    ],\n",
    "    [\n",
    "        1\n",
    "    ]\n",
    ")"
   ]
  },
  {
   "cell_type": "markdown",
   "metadata": {},
   "source": [
    "---"
   ]
  },
  {
   "cell_type": "code",
   "execution_count": null,
   "metadata": {},
   "outputs": [],
   "source": [
    "import pixiedust_node"
   ]
  },
  {
   "cell_type": "code",
   "execution_count": null,
   "metadata": {},
   "outputs": [],
   "source": [
    "%%node\n",
    "var synaptic = require('synaptic');\n",
    "var Neuron = synaptic.Neuron,\n",
    "\tLayer = synaptic.Layer,\n",
    "\tNetwork = synaptic.Network,\n",
    "\tTrainer = synaptic.Trainer,\n",
    "\tArchitect = synaptic.Architect;"
   ]
  },
  {
   "cell_type": "code",
   "execution_count": null,
   "metadata": {},
   "outputs": [],
   "source": [
    "%%node\n",
    "function Perceptron(input, hidden, output)\n",
    "{\n",
    "\t// create the layers\n",
    "\tvar inputLayer = new Layer(input);\n",
    "\tvar hiddenLayer = new Layer(hidden);\n",
    "\tvar outputLayer = new Layer(output);\n",
    "\n",
    "\t// connect the layers\n",
    "\tinputLayer.project(hiddenLayer);\n",
    "\thiddenLayer.project(outputLayer);\n",
    "\n",
    "\t// set the layers\n",
    "\tthis.set({\n",
    "\t\tinput: inputLayer,\n",
    "\t\thidden: [hiddenLayer],\n",
    "\t\toutput: outputLayer\n",
    "\t});\n",
    "}\n",
    "\n",
    "// extend the prototype chain\n",
    "Perceptron.prototype = new Network();\n",
    "Perceptron.prototype.constructor = Perceptron;"
   ]
  },
  {
   "cell_type": "code",
   "execution_count": null,
   "metadata": {},
   "outputs": [],
   "source": [
    "%%node\n",
    "var myPerceptron = new Perceptron(2,3,1);\n",
    "var myTrainer = new Trainer(myPerceptron);\n",
    "\n",
    "myTrainer.XOR(); // { error: 0.004998819355993572, iterations: 21871, time: 356 }\n",
    "\n",
    "print(myPerceptron.activate([0,0])); // 0.0268581547421616\n",
    "print(myPerceptron.activate([1,0])); // 0.9829673642853368\n",
    "print(myPerceptron.activate([0,1])); // 0.9831714267395621\n",
    "print(myPerceptron.activate([1,1])); // 0.02128894618097928"
   ]
  },
  {
   "cell_type": "code",
   "execution_count": null,
   "metadata": {
    "collapsed": true
   },
   "outputs": [],
   "source": []
  }
 ],
 "metadata": {
  "kernelspec": {
   "display_name": "Python with Pixiedust (Spark 2.2)",
   "language": "python",
   "name": "pythonwithpixiedustspark22"
  },
  "language_info": {
   "codemirror_mode": {
    "name": "ipython",
    "version": 3
   },
   "file_extension": ".py",
   "mimetype": "text/x-python",
   "name": "python",
   "nbconvert_exporter": "python",
   "pygments_lexer": "ipython3",
   "version": "3.6.3"
  }
 },
 "nbformat": 4,
 "nbformat_minor": 2
}
